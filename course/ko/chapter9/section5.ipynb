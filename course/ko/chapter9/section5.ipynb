{
 "cells": [
  {
   "cell_type": "markdown",
   "metadata": {},
   "source": [
    "# Hugging Face Hub와의 통합"
   ]
  },
  {
   "cell_type": "markdown",
   "metadata": {},
   "source": [
    "이 노트북을 실행하려면 Transformers, Datasets 및 Evaluate 라이브러리를 설치해야 합니다."
   ]
  },
  {
   "cell_type": "code",
   "execution_count": null,
   "metadata": {},
   "outputs": [],
   "source": [
    "!pip install datasets evaluate transformers[sentencepiece]\n",
    "!pip install gradio"
   ]
  },
  {
   "cell_type": "code",
   "execution_count": null,
   "metadata": {},
   "outputs": [],
   "source": [
    "import gradio as gr\n",
    "\n",
    "title = \"GPT-J-6B\"\n",
    "description = \"\"\"\n",
    "Gradio Demo for GPT-J 6B, a transformer model trained using Ben Wang's Mesh Transformer JAX. 'GPT-J' refers to the class of model, while '6B' represents the number of trainable parameters. To use it, simply add your text, or click one of the examples to load them. Read more at the links below.\n",
    "GPT-J 6B용 Gradio 데모입니다. Ben Wang의 Mesh Transformer JAX를 사용하여 훈련된 트랜스포머 모델입니다. 'GPT-J'는 모델 클래스를 나타내고 '6B'는 훈련 가능한 매개변수 수를 나타냅니다. 사용하려면 텍스트를 추가하거나 예제 중 하나를 클릭하여 로드하십시오. 자세한 내용은 아래 링크를 참조하십시오.\n",
    "\"\"\"\n",
    "\n",
    "article = \"<p style='text-align: center'><a href='https://github.com/kingoflolz/mesh-transformer-jax' target='_blank'>GPT-J-6B: A 6 Billion Parameter Autoregressive Language Model</a></p>\"\n",
    "examples = [\n",
    "    [\"The tower is 324 metres (1,063 ft) tall,\"],\n",
    "    [\"The Moon's orbit around Earth has\"],\n",
    "    [\"The smooth Borealis basin in the Northern Hemisphere covers 40%\"],\n",
    "]\n",
    "gr.Interface.load(\n",
    "    \"huggingface/EleutherAI/gpt-j-6B\",\n",
    "    inputs=gr.Textbox(lines=5, label=\"Input Text\"),\n",
    "    title=title,\n",
    "    description=description,\n",
    "    article=article,\n",
    "    examples=examples,\n",
    "    enable_queue=True,\n",
    ").launch()"
   ]
  },
  {
   "cell_type": "code",
   "execution_count": null,
   "metadata": {},
   "outputs": [],
   "source": [
    "gr.Interface.load(\"spaces/abidlabs/remove-bg\").launch()"
   ]
  },
  {
   "cell_type": "code",
   "execution_count": null,
   "metadata": {},
   "outputs": [],
   "source": [
    "gr.Interface.load(\n",
    "    \"spaces/abidlabs/remove-bg\", inputs=\"webcam\", title=\"Remove your webcam background!\"\n",
    ").launch()"
   ]
  }
 ],
 "metadata": {
  "colab": {
   "name": "Hugging Face Hub와의 통합",
   "provenance": []
  }
 },
 "nbformat": 4,
 "nbformat_minor": 4
}
