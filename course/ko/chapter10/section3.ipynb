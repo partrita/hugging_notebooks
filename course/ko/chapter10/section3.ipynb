{
 "cells": [
  {
   "cell_type": "markdown",
   "metadata": {},
   "source": [
    "# 데이터 세트를 Argilla에 로드"
   ]
  },
  {
   "cell_type": "code",
   "execution_count": null,
   "metadata": {},
   "outputs": [],
   "source": [
    "!pip install argilla datasets"
   ]
  },
  {
   "cell_type": "code",
   "execution_count": null,
   "metadata": {},
   "outputs": [],
   "source": [
    "import argilla as rg\n",
    "\n",
    "HF_TOKEN = \"...\"  # 비공개 스페이스 전용\n",
    "\n",
    "client = rg.Argilla(\n",
    "    api_url=\"...\",\n",
    "    api_key=\"...\",\n",
    "    headers={\"Authorization\": f\"Bearer {HF_TOKEN}\"},  # 비공개 스페이스 전용\n",
    ")"
   ]
  },
  {
   "cell_type": "code",
   "execution_count": null,
   "metadata": {},
   "outputs": [
    {
     "data": {
      "text/plain": [
       "{'text': Value(dtype='string', id=None),\n",
       " 'label': Value(dtype='int64', id=None),\n",
       " 'label_text': Value(dtype='string', id=None)}"
      ]
     },
     "execution_count": null,
     "metadata": {},
     "output_type": "execute_result"
    }
   ],
   "source": [
    "from datasets import load_dataset\n",
    "\n",
    "data = load_dataset(\"SetFit/ag_news\", split=\"train\")\n",
    "data.features"
   ]
  },
  {
   "cell_type": "code",
   "execution_count": null,
   "metadata": {},
   "outputs": [],
   "source": [
    "settings = rg.Settings(\n",
    "    fields=[rg.TextField(name=\"text\")],\n",
    "    questions=[\n",
    "        rg.LabelQuestion(\n",
    "            name=\"label\", title=\"Classify the text:\", labels=data.unique(\"label_text\")\n",
    "        ),\n",
    "        rg.SpanQuestion(\n",
    "            name=\"entities\",\n",
    "            title=\"Highlight all the entities in the text:\",\n",
    "            labels=[\"PERSON\", \"ORG\", \"LOC\", \"EVENT\"],\n",
    "            field=\"text\",\n",
    "        ),\n",
    "    ],\n",
    ")"
   ]
  },
  {
   "cell_type": "code",
   "execution_count": null,
   "metadata": {},
   "outputs": [],
   "source": [
    "dataset = rg.Dataset(name=\"ag_news\", settings=settings)\n",
    "\n",
    "dataset.create()"
   ]
  },
  {
   "cell_type": "code",
   "execution_count": null,
   "metadata": {},
   "outputs": [],
   "source": [
    "dataset.records.log(data, mapping={\"label_text\": \"label\"})"
   ]
  }
 ],
 "metadata": {
  "colab": {
   "name": "데이터 세트를 Argilla에 로드",
   "provenance": []
  },
  "language_info": {
   "name": "python"
  }
 },
 "nbformat": 4,
 "nbformat_minor": 4
}
