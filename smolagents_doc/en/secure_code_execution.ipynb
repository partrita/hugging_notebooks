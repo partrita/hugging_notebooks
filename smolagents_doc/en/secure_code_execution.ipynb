{
 "cells": [
  {
   "cell_type": "code",
   "execution_count": null,
   "metadata": {},
   "outputs": [],
   "source": [
    "# Installation\n",
    "! pip install smolagents\n",
    "# To install from source instead of the last release, comment the command above and uncomment the following one.\n",
    "# ! pip install git+https://github.com/huggingface/smolagents.git"
   ]
  },
  {
   "cell_type": "markdown",
   "metadata": {},
   "source": [
    "# Secure code execution"
   ]
  },
  {
   "cell_type": "markdown",
   "metadata": {},
   "source": [
    "> [!TIP]\n",
    "> If you're new to building agents, make sure to first read the [intro to agents](https://huggingface.co/docs/smolagents/main/en/tutorials/../conceptual_guides/intro_agents) and the [guided tour of smolagents](https://huggingface.co/docs/smolagents/main/en/tutorials/../guided_tour)."
   ]
  },
  {
   "cell_type": "markdown",
   "metadata": {},
   "source": [
    "### Code agents"
   ]
  },
  {
   "cell_type": "markdown",
   "metadata": {},
   "source": [
    "[Multiple](https://huggingface.co/papers/2402.01030) [research](https://huggingface.co/papers/2411.01747) [papers](https://huggingface.co/papers/2401.00812) have shown that having the LLM write its actions (the tool calls) in code is much better than the current standard format for tool calling, which is across the industry different shades of \"writing actions as a JSON of tools names and arguments to use\".\n",
    "\n",
    "Why is code better? Well, because we crafted our code languages specifically to be great at expressing actions performed by a computer. If JSON snippets were a better way, this package would have been written in JSON snippets and the devil would be laughing at us.\n",
    "\n",
    "Code is just a better way to express actions on a computer. It has better:\n",
    "- **Composability:** could you nest JSON actions within each other, or define a set of JSON actions to re-use later, the same way you could just define a python function?\n",
    "- **Object management:** how do you store the output of an action like `generate_image` in JSON?\n",
    "- **Generality:** code is built to express simply anything you can have a computer do.\n",
    "- **Representation in LLM training corpus:** why not leverage this benediction of the sky that plenty of quality actions have already been included in LLM training corpus?\n",
    "\n",
    "This is illustrated on the figure below, taken from [Executable Code Actions Elicit Better LLM Agents](https://huggingface.co/papers/2402.01030).\n",
    "\n",
    "<img src=\"https://huggingface.co/datasets/huggingface/documentation-images/resolve/main/transformers/code_vs_json_actions.png\">\n",
    "\n",
    "This is why we put emphasis on proposing code agents, in this case python agents, which meant putting higher effort on building secure python interpreters."
   ]
  },
  {
   "cell_type": "markdown",
   "metadata": {},
   "source": [
    "### Local code execution??"
   ]
  },
  {
   "cell_type": "markdown",
   "metadata": {},
   "source": [
    "By default, the `CodeAgent` runs LLM-generated code in your environment.\n",
    "\n",
    "This is inherently risky, LLM-generated code could be harmful to your environment.\n",
    "\n",
    "Malicious code execution can occur in several ways:\n",
    "- **Plain LLM error:** LLMs are still far from perfect and may unintentionally generate harmful commands while attempting to be helpful. While this risk is low, instances have been observed where an LLM attempted to execute potentially dangerous code.  \n",
    "- **Supply chain attack:** Running an untrusted or compromised LLM could expose a system to harmful code generation. While this risk is extremely low when using well-known models on secure inference infrastructure, it remains a theoretical possibility.  \n",
    "- **Prompt injection:** an agent browsing the web could arrive on a malicious website that contains harmful instructions, thus injecting an attack into the agent's memory\n",
    "- **Exploitation of publicly accessible agents:** Agents exposed to the public can be misused by malicious actors to execute harmful code. Attackers may craft adversarial inputs to exploit the agent's execution capabilities, leading to unintended consequences.\n",
    "Once malicious code is executed, whether accidentally or intentionally, it can damage the file system, exploit local or cloud-based resources, abuse API services, and even compromise network security.\n",
    "\n",
    "One could argue that on the [spectrum of agency](https://huggingface.co/docs/smolagents/main/en/tutorials/../conceptual_guides/intro_agents), code agents give much higher agency to the LLM on your system than other less agentic setups: this goes hand-in-hand with higher risk.\n",
    "\n",
    "So you need to be very mindful of security.\n",
    "\n",
    "To improve safety, we propose a range of measures that propose elevated levels of security, at a higher setup cost.\n",
    "\n",
    "We advise you to keep in mind that no solution will be 100% safe.\n",
    "\n",
    "<img src=\"https://huggingface.co/datasets/huggingface/documentation-images/resolve/main/smolagents/code_execution_safety_diagram.png\">"
   ]
  },
  {
   "cell_type": "markdown",
   "metadata": {},
   "source": [
    "### Our local Python executor"
   ]
  },
  {
   "cell_type": "markdown",
   "metadata": {},
   "source": [
    "To add a first layer of security, code execution in `smolagents` is not performed by the vanilla Python interpreter.\n",
    "We have re-built a more secure `LocalPythonExecutor` from the ground up.\n",
    "\n",
    "To be precise, this interpreter works by loading the Abstract Syntax Tree (AST) from your Code and executes it operation by operation, making sure to always follow certain rules:\n",
    "- By default, imports are disallowed unless they have been explicitly added to an authorization list by the user.\n",
    "- Furthermore, access to submodules is disabled by default, and each must be explicitly authorized in the import list as well, or you can pass for instance `numpy.*` to allow both `numpy` and all its subpackags, like `numpy.random` or `numpy.a.b`.\n",
    "   - Note that some seemingly innocuous packages like `random` can give access to potentially harmful submodules, as in `random._os`.\n",
    "- The total count of elementary operations processed is capped to prevent infinite loops and resource bloating.\n",
    "- Any operation that has not been explicitly defined in our custom interpreter will raise an error.\n",
    "\n",
    "You could try these safeguards as follows:"
   ]
  },
  {
   "cell_type": "code",
   "execution_count": null,
   "metadata": {},
   "outputs": [],
   "source": [
    "from smolagents.local_python_executor import LocalPythonExecutor\n",
    "\n",
    "# Set up custom executor, authorize package \"numpy\"\n",
    "custom_executor = LocalPythonExecutor([\"numpy\"])\n",
    "\n",
    "# Utilisty for pretty printing errors\n",
    "def run_capture_exception(command: str):\n",
    "    try:\n",
    "        custom_executor(harmful_command)\n",
    "    except Exception as e:\n",
    "        print(\"ERROR:\\n\", e)\n",
    "\n",
    "# Undefined command just do not work\n",
    "harmful_command=\"!echo Bad command\"\n",
    "run_capture_exception(harmful_command)\n",
    "# >>> ERROR: invalid syntax (<unknown>, line 1)\n",
    "\n",
    "\n",
    "# Imports like os will not be performed unless explicitly added to `additional_authorized_imports`\n",
    "harmful_command=\"import os; exit_code = os.system('echo Bad command')\"\n",
    "run_capture_exception(harmful_command)\n",
    "# >>> ERROR: Code execution failed at line 'import os' due to: InterpreterError: Import of os is not allowed. Authorized imports are: ['statistics', 'numpy', 'itertools', 'time', 'queue', 'collections', 'math', 'random', 're', 'datetime', 'stat', 'unicodedata']\n",
    "\n",
    "# Even in authorized imports, potentially harmful packages will not be imported\n",
    "harmful_command=\"import random; random._os.system('echo Bad command')\"\n",
    "run_capture_exception(harmful_command)\n",
    "# >>> ERROR: Code execution failed at line 'random._os.system('echo Bad command')' due to: InterpreterError: Forbidden access to module: os\n",
    "\n",
    "# Infinite loop are interrupted after N operations\n",
    "harmful_command=\"\"\"\n",
    "while True:\n",
    "    pass\n",
    "\"\"\"\n",
    "run_capture_exception(harmful_command)\n",
    "# >>> ERROR: Code execution failed at line 'while True: pass' due to: InterpreterError: Maximum number of 1000000 iterations in While loop exceeded"
   ]
  },
  {
   "cell_type": "markdown",
   "metadata": {},
   "source": [
    "These safeguards make out interpreter is safer.\n",
    "We have used it on a diversity of use cases, without ever observing any damage to the environment.\n",
    "\n",
    "> [!WARNING]\n",
    "> It's important to understand that no local python sandbox can ever be completely secure. While our interpreter provides significant safety improvements over the standard Python interpreter, it is still possible for a determined attacker or a fine-tuned malicious LLM to find vulnerabilities and potentially harm your environment. \n",
    "> \n",
    "> For example, if you've allowed packages like `Pillow` to process images, the LLM could generate code that creates thousands of large image files to fill your hard drive. Other advanced escape techniques might exploit deeper vulnerabilities in authorized packages.\n",
    "> \n",
    "> Running LLM-generated code in your local environment always carries some inherent risk. The only way to run LLM-generated code with truly robust security isolation is to use remote execution options like E2B or Docker, as detailed below.\n",
    "\n",
    "The risk of a malicious attack is low when using well-known LLMs from trusted inference providers, but it is not zero.\n",
    "For high-security applications or when using less trusted models, you should consider using a remote execution sandbox."
   ]
  },
  {
   "cell_type": "markdown",
   "metadata": {},
   "source": [
    "## Sandbox approaches for secure code execution"
   ]
  },
  {
   "cell_type": "markdown",
   "metadata": {},
   "source": [
    "When working with AI agents that execute code, security is paramount. There are two main approaches to sandboxing code execution in smolagents, each with different security properties and capabilities:\n",
    "\n",
    "\n",
    "![Sandbox approaches comparison](https://huggingface.co/datasets/huggingface/documentation-images/resolve/main/smolagents/remote_execution.png)\n",
    "\n",
    "1. **Running individual code snippets in a sandbox**: This approach (left side of diagram) only executes the agent-generated Python code snippets in a sandbox while keeping the rest of the agentic system in your local environment. It's simpler to set up using `executor_type=\"e2b\"` or `executor_type=\"docker\"`, but it doesn't support multi-agents and still requires passing state data between your environment and the sandbox.\n",
    "\n",
    "2. **Running the entire agentic system in a sandbox**: This approach (right side of diagram) runs the entire agentic system, including the agent, model, and tools, within a sandbox environment. This provides better isolation but requires more manual setup and may require passing sensitive credentials (like API keys) to the sandbox environment.\n",
    "\n",
    "This guide describes how to set up and use both types of sandbox approaches for your agent applications."
   ]
  },
  {
   "cell_type": "markdown",
   "metadata": {},
   "source": [
    "### E2B setup"
   ]
  },
  {
   "cell_type": "markdown",
   "metadata": {},
   "source": [
    "#### Installation"
   ]
  },
  {
   "cell_type": "markdown",
   "metadata": {},
   "source": [
    "1. Create an E2B account at [e2b.dev](https://e2b.dev)\n",
    "2. Install the required packages:\n",
    "```bash\n",
    "pip install 'smolagents[e2b]'\n",
    "```"
   ]
  },
  {
   "cell_type": "markdown",
   "metadata": {},
   "source": [
    "#### Running your agent in E2B: quick start"
   ]
  },
  {
   "cell_type": "markdown",
   "metadata": {},
   "source": [
    "We provide a simple way to use an E2B Sandbox: simply add `executor_type=\"e2b\"` to the agent initialization, as follows:"
   ]
  },
  {
   "cell_type": "code",
   "execution_count": null,
   "metadata": {},
   "outputs": [],
   "source": [
    "from smolagents import InferenceClientModel, CodeAgent\n",
    "\n",
    "agent = CodeAgent(model=InferenceClientModel(), tools=[], executor_type=\"e2b\")\n",
    "\n",
    "with agent:\n",
    "    agent.run(\"Can you give me the 100th Fibonacci number?\")"
   ]
  },
  {
   "cell_type": "markdown",
   "metadata": {},
   "source": [
    "> [!TIP]\n",
    "> Using the agent as a context manager (with the `with` statement) ensures that the E2B sandbox is cleaned up immediately after the agent completes its task.\n",
    "> Alternatively, you can manually call the agent's `cleanup()` method.\n",
    "\n",
    "This solution send the agent state to the server at the start of each `agent.run()`.\n",
    "Then the models are called from the local environment, but the generated code will be sent to the sandbox for execution, and only the output will be returned.\n",
    "\n",
    "This is illustrated in the figure below.\n",
    "\n",
    "<p align=\"center\">\n",
    "    <img src=\"https://huggingface.co/datasets/huggingface/documentation-images/resolve/main/smolagents/sandboxed_execution.png\" alt=\"sandboxed code execution\" width=60% max-width=500px>\n",
    "</p>\n",
    "\n",
    "However, since any call to a [managed agent](https://huggingface.co/docs/smolagents/main/en/tutorials/../examples/multiagents) would require model calls, since we do not transfer secrets to the remote sandbox, the model call would lack credentials.\n",
    "Hence this solution does not work (yet) with more complicated multi-agent setups."
   ]
  },
  {
   "cell_type": "markdown",
   "metadata": {},
   "source": [
    "#### Running your agent in E2B: multi-agents"
   ]
  },
  {
   "cell_type": "markdown",
   "metadata": {},
   "source": [
    "To use multi-agents in an E2B sandbox, you need to run your agents completely from within E2B.\n",
    "\n",
    "Here is how to do it:"
   ]
  },
  {
   "cell_type": "code",
   "execution_count": null,
   "metadata": {},
   "outputs": [],
   "source": [
    "from e2b_code_interpreter import Sandbox\n",
    "import os\n",
    "\n",
    "# Create the sandbox\n",
    "sandbox = Sandbox()\n",
    "\n",
    "# Install required packages\n",
    "sandbox.commands.run(\"pip install smolagents\")\n",
    "\n",
    "def run_code_raise_errors(sandbox, code: str, verbose: bool = False) -> str:\n",
    "    execution = sandbox.run_code(\n",
    "        code,\n",
    "        envs={'HF_TOKEN': os.getenv('HF_TOKEN')}\n",
    "    )\n",
    "    if execution.error:\n",
    "        execution_logs = \"\\n\".join([str(log) for log in execution.logs.stdout])\n",
    "        logs = execution_logs\n",
    "        logs += execution.error.traceback\n",
    "        raise ValueError(logs)\n",
    "    return \"\\n\".join([str(log) for log in execution.logs.stdout])\n",
    "\n",
    "# Define your agent application\n",
    "agent_code = \"\"\"\n",
    "import os\n",
    "from smolagents import CodeAgent, InferenceClientModel\n",
    "\n",
    "# Initialize the agents\n",
    "agent = CodeAgent(\n",
    "    model=InferenceClientModel(token=os.getenv(\"HF_TOKEN\"), provider=\"together\"),\n",
    "    tools=[],\n",
    "    name=\"coder_agent\",\n",
    "    description=\"This agent takes care of your difficult algorithmic problems using code.\"\n",
    ")\n",
    "\n",
    "manager_agent = CodeAgent(\n",
    "    model=InferenceClientModel(token=os.getenv(\"HF_TOKEN\"), provider=\"together\"),\n",
    "    tools=[],\n",
    "    managed_agents=[agent],\n",
    ")\n",
    "\n",
    "# Run the agent\n",
    "response = manager_agent.run(\"What's the 20th Fibonacci number?\")\n",
    "print(response)\n",
    "\"\"\"\n",
    "\n",
    "# Run the agent code in the sandbox\n",
    "execution_logs = run_code_raise_errors(sandbox, agent_code)\n",
    "print(execution_logs)"
   ]
  },
  {
   "cell_type": "markdown",
   "metadata": {},
   "source": [
    "### Docker setup"
   ]
  },
  {
   "cell_type": "markdown",
   "metadata": {},
   "source": [
    "#### Installation"
   ]
  },
  {
   "cell_type": "markdown",
   "metadata": {},
   "source": [
    "1. [Install Docker on your system](https://docs.docker.com/get-started/get-docker/)\n",
    "2. Install the required packages:\n",
    "```bash\n",
    "pip install 'smolagents[docker]'\n",
    "```"
   ]
  },
  {
   "cell_type": "markdown",
   "metadata": {},
   "source": [
    "#### Running your agent in Docker: quick start"
   ]
  },
  {
   "cell_type": "markdown",
   "metadata": {},
   "source": [
    "Similar to the E2B Sandbox above, to quickly get started with Docker, simply add `executor_type=\"docker\"` to the agent initialization, like:"
   ]
  },
  {
   "cell_type": "code",
   "execution_count": null,
   "metadata": {},
   "outputs": [],
   "source": [
    "from smolagents import InferenceClientModel, CodeAgent\n",
    "\n",
    "agent = CodeAgent(model=InferenceClientModel(), tools=[], executor_type=\"docker\")\n",
    "\n",
    "with agent:\n",
    "    agent.run(\"Can you give me the 100th Fibonacci number?\")"
   ]
  },
  {
   "cell_type": "markdown",
   "metadata": {},
   "source": [
    "> [!TIP]\n",
    "> Using the agent as a context manager (with the `with` statement) ensures that the Docker container is cleaned immediately after the agent completes its task.\n",
    "> Alternatively, you can manually call the agent's `cleanup()` method."
   ]
  },
  {
   "cell_type": "markdown",
   "metadata": {},
   "source": [
    "#### Advanced docker usage"
   ]
  },
  {
   "cell_type": "markdown",
   "metadata": {},
   "source": [
    "If you want to run multi-agent systems in Docker, you'll need to setup a custom interpreter in a sandbox.\n",
    "\n",
    "Here is how to setup the a Dockerfile:\n",
    "\n",
    "```dockerfile\n",
    "FROM python:3.10-bullseye\n",
    "\n",
    "# Install build dependencies\n",
    "RUN apt-get update && \\\n",
    "    apt-get install -y --no-install-recommends \\\n",
    "        build-essential \\\n",
    "        python3-dev && \\\n",
    "    pip install --no-cache-dir --upgrade pip && \\\n",
    "    pip install --no-cache-dir smolagents && \\\n",
    "    apt-get clean && \\\n",
    "    rm -rf /var/lib/apt/lists/*\n",
    "\n",
    "# Set working directory\n",
    "WORKDIR /app\n",
    "\n",
    "# Run with limited privileges\n",
    "USER nobody\n",
    "\n",
    "# Default command\n",
    "CMD [\"python\", \"-c\", \"print('Container ready')\"]\n",
    "```\n",
    "\n",
    "Create a sandbox manager to run code:"
   ]
  },
  {
   "cell_type": "code",
   "execution_count": null,
   "metadata": {},
   "outputs": [],
   "source": [
    "import docker\n",
    "import os\n",
    "from typing import Optional\n",
    "\n",
    "class DockerSandbox:\n",
    "    def __init__(self):\n",
    "        self.client = docker.from_env()\n",
    "        self.container = None\n",
    "\n",
    "    def create_container(self):\n",
    "        try:\n",
    "            image, build_logs = self.client.images.build(\n",
    "                path=\".\",\n",
    "                tag=\"agent-sandbox\",\n",
    "                rm=True,\n",
    "                forcerm=True,\n",
    "                buildargs={},\n",
    "                # decode=True\n",
    "            )\n",
    "        except docker.errors.BuildError as e:\n",
    "            print(\"Build error logs:\")\n",
    "            for log in e.build_log:\n",
    "                if 'stream' in log:\n",
    "                    print(log['stream'].strip())\n",
    "            raise\n",
    "\n",
    "        # Create container with security constraints and proper logging\n",
    "        self.container = self.client.containers.run(\n",
    "            \"agent-sandbox\",\n",
    "            command=\"tail -f /dev/null\",  # Keep container running\n",
    "            detach=True,\n",
    "            tty=True,\n",
    "            mem_limit=\"512m\",\n",
    "            cpu_quota=50000,\n",
    "            pids_limit=100,\n",
    "            security_opt=[\"no-new-privileges\"],\n",
    "            cap_drop=[\"ALL\"],\n",
    "            environment={\n",
    "                \"HF_TOKEN\": os.getenv(\"HF_TOKEN\")\n",
    "            },\n",
    "        )\n",
    "\n",
    "    def run_code(self, code: str) -> Optional[str]:\n",
    "        if not self.container:\n",
    "            self.create_container()\n",
    "\n",
    "        # Execute code in container\n",
    "        exec_result = self.container.exec_run(\n",
    "            cmd=[\"python\", \"-c\", code],\n",
    "            user=\"nobody\"\n",
    "        )\n",
    "\n",
    "        # Collect all output\n",
    "        return exec_result.output.decode() if exec_result.output else None\n",
    "\n",
    "\n",
    "    def cleanup(self):\n",
    "        if self.container:\n",
    "            try:\n",
    "                self.container.stop()\n",
    "            except docker.errors.NotFound:\n",
    "                # Container already removed, this is expected\n",
    "                pass\n",
    "            except Exception as e:\n",
    "                print(f\"Error during cleanup: {e}\")\n",
    "            finally:\n",
    "                self.container = None  # Clear the reference\n",
    "\n",
    "# Example usage:\n",
    "sandbox = DockerSandbox()\n",
    "\n",
    "try:\n",
    "    # Define your agent code\n",
    "    agent_code = \"\"\"\n",
    "import os\n",
    "from smolagents import CodeAgent, InferenceClientModel\n",
    "\n",
    "# Initialize the agent\n",
    "agent = CodeAgent(\n",
    "    model=InferenceClientModel(token=os.getenv(\"HF_TOKEN\"), provider=\"together\"),\n",
    "    tools=[]\n",
    ")\n",
    "\n",
    "# Run the agent\n",
    "response = agent.run(\"What's the 20th Fibonacci number?\")\n",
    "print(response)\n",
    "\"\"\"\n",
    "\n",
    "    # Run the code in the sandbox\n",
    "    output = sandbox.run_code(agent_code)\n",
    "    print(output)\n",
    "\n",
    "finally:\n",
    "    sandbox.cleanup()"
   ]
  },
  {
   "cell_type": "markdown",
   "metadata": {},
   "source": [
    "### WebAssembly setup"
   ]
  },
  {
   "cell_type": "markdown",
   "metadata": {},
   "source": [
    "WebAssembly (Wasm) is a binary instruction format that allows code to be run in a safe, sandboxed environment.\n",
    "It is designed to be fast, efficient, and secure, making it an excellent choice for executing potentially untrusted code.\n",
    "\n",
    "The `WasmExecutor` uses [Pyodide](https://pyodide.org/) and [Deno](https://docs.deno.com/)."
   ]
  },
  {
   "cell_type": "markdown",
   "metadata": {},
   "source": [
    "#### Installation"
   ]
  },
  {
   "cell_type": "markdown",
   "metadata": {},
   "source": [
    "1. [Install Deno on your system](https://docs.deno.com/runtime/getting_started/installation/)"
   ]
  },
  {
   "cell_type": "markdown",
   "metadata": {},
   "source": [
    "#### Running your agent in WebAssembly: quick start"
   ]
  },
  {
   "cell_type": "markdown",
   "metadata": {},
   "source": [
    "Simply pass `executor_type=\"wasm\"` to the agent initialization, like:"
   ]
  },
  {
   "cell_type": "code",
   "execution_count": null,
   "metadata": {},
   "outputs": [],
   "source": [
    "from smolagents import InferenceClientModel, CodeAgent\n",
    "\n",
    "agent = CodeAgent(model=InferenceClientModel(), tools=[], executor_type=\"wasm\")\n",
    "\n",
    "agent.run(\"Can you give me the 100th Fibonacci number?\")"
   ]
  },
  {
   "cell_type": "markdown",
   "metadata": {},
   "source": [
    "### Best practices for sandboxes"
   ]
  },
  {
   "cell_type": "markdown",
   "metadata": {},
   "source": [
    "These key practices apply to both E2B and Docker sandboxes:\n",
    "\n",
    "- Resource management\n",
    "  - Set memory and CPU limits\n",
    "  - Implement execution timeouts\n",
    "  - Monitor resource usage\n",
    "- Security\n",
    "  - Run with minimal privileges\n",
    "  - Disable unnecessary network access\n",
    "  - Use environment variables for secrets\n",
    "- Environment\n",
    "  - Keep dependencies minimal\n",
    "  - Use fixed package versions\n",
    "  - If you use base images, update them regularly\n",
    "\n",
    "- Cleanup\n",
    "  - Always ensure proper cleanup of resources, especially for Docker containers, to avoid having dangling containers eating up resources.\n",
    "\n",
    "✨ By following these practices and implementing proper cleanup procedures, you can ensure your agent runs safely and efficiently in a sandboxed environment."
   ]
  },
  {
   "cell_type": "markdown",
   "metadata": {},
   "source": [
    "## Comparing security approaches"
   ]
  },
  {
   "cell_type": "markdown",
   "metadata": {},
   "source": [
    "As illustrated in the diagram earlier, both sandboxing approaches have different security implications:"
   ]
  },
  {
   "cell_type": "markdown",
   "metadata": {},
   "source": [
    "### Approach 1: Running just the code snippets in a sandbox"
   ]
  },
  {
   "cell_type": "markdown",
   "metadata": {},
   "source": [
    "- **Pros**: \n",
    "  - Easier to set up with a simple parameter (`executor_type=\"e2b\"` or `executor_type=\"docker\"`)\n",
    "  - No need to transfer API keys to the sandbox\n",
    "  - Better protection for your local environment\n",
    "- **Cons**:\n",
    "  - Doesn't support multi-agents (managed agents)\n",
    "  - Still requires transferring state between your environment and the sandbox\n",
    "  - Limited to specific code execution"
   ]
  },
  {
   "cell_type": "markdown",
   "metadata": {},
   "source": [
    "### Approach 2: Running the entire agentic system in a sandbox"
   ]
  },
  {
   "cell_type": "markdown",
   "metadata": {},
   "source": [
    "- **Pros**:\n",
    "  - Supports multi-agents\n",
    "  - Complete isolation of the entire agent system\n",
    "  - More flexible for complex agent architectures\n",
    "- **Cons**:\n",
    "  - Requires more manual setup\n",
    "  - May require transferring sensitive API keys to the sandbox\n",
    "  - Potentially higher latency due to more complex operations\n",
    "\n",
    "Choose the approach that best balances your security needs with your application's requirements. For most applications with simpler agent architectures, Approach 1 provides a good balance of security and ease of use. For more complex multi-agent systems where you need full isolation, Approach 2, while more involved to set up, offers better security guarantees."
   ]
  }
 ],
 "metadata": {},
 "nbformat": 4,
 "nbformat_minor": 4
}
