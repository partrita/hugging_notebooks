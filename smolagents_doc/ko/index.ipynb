{
 "cells": [
  {
   "cell_type": "code",
   "execution_count": null,
   "metadata": {},
   "outputs": [],
   "source": [
    "# 설치\n",
    "! pip install smolagents\n",
    "# 마지막 릴리스 대신 소스에서 설치하려면 위 명령을 주석 처리하고 다음 명령의 주석을 해제하십시오.\n",
    "# ! pip install git+https://github.com/huggingface/smolagents.git"
   ]
  },
  {
   "cell_type": "markdown",
   "metadata": {},
   "source": [
    "# `smolagents`"
   ]
  },
  {
   "cell_type": "markdown",
   "metadata": {},
   "source": [
    "<div class=\"flex justify-center\">\n",
    "    <img src=\"https://huggingface.co/datasets/huggingface/documentation-images/resolve/main/smolagents/license_to_call.png\" style=\"max-width:700px\"/>\n",
    "</div>"
   ]
  },
  {
   "cell_type": "markdown",
   "metadata": {},
   "source": [
    "## smolagents란 무엇인가요?"
   ]
  },
  {
   "cell_type": "markdown",
   "metadata": {},
   "source": [
    "`smolagents`는 몇 줄의 코드만으로 에이전트를 매우 쉽게 빌드하고 실행할 수 있도록 설계된 오픈 소스 Python 라이브러리입니다.\n",
    "\n",
    "`smolagents`의 주요 기능은 다음과 같습니다.\n",
    "\n",
    "✨ **단순성**: 에이전트 로직은 약 1,000줄의 코드로 구성됩니다. 추상화를 원시 코드 위의 최소한의 형태로 유지했습니다!\n",
    "\n",
    "🧑‍💻 **코드 에이전트에 대한 최고 수준 지원**: [`CodeAgent`](https://huggingface.co/docs/smolagents/main/ko/reference/agents#smolagents.CodeAgent)는 도구를 호출하거나 계산을 수행하기 위해 코드에 작업을 작성하여( \"코드를 작성하는 데 사용되는 에이전트\"와 반대) 자연스러운 구성 가능성(함수 중첩, 루프, 조건문)을 가능하게 합니다. 보안을 위해 [E2B](https://e2b.dev/) 또는 Docker를 통해 [샌드박스 환경에서 실행](https://huggingface.co/docs/smolagents/main/ko/tutorials/secure_code_execution)하는 것을 지원합니다.\n",
    "\n",
    "📡 **일반적인 도구 호출 에이전트 지원**: CodeAgent 외에도 [`ToolCallingAgent`](https://huggingface.co/docs/smolagents/main/ko/reference/agents#smolagents.ToolCallingAgent)는 해당 패러다임이 선호되는 시나리오에 대해 일반적인 JSON/텍스트 기반 도구 호출을 지원합니다.\n",
    "\n",
    "🤗 **허브 통합**: 에이전트와 도구를 Gradio Spaces로 허브에/에서 원활하게 공유하고 로드합니다.\n",
    "\n",
    "🌐 **모델에 구애받지 않음**: [추론 공급자](https://huggingface.co/docs/inference-providers/index)를 통해 허브에서 호스팅되든, OpenAI, Anthropic 또는 LiteLLM 통합을 통해 다른 많은 API를 통해 액세스하든, Transformers 또는 Ollama를 사용하여 로컬에서 실행하든 모든 대규모 언어 모델(LLM)을 쉽게 통합할 수 있습니다. 선호하는 LLM으로 에이전트에 전원을 공급하는 것은 간단하고 유연합니다.\n",
    "\n",
    "👁️ **양식에 구애받지 않음**: 텍스트 외에도 에이전트는 시각, 비디오 및 오디오 입력을 처리하여 가능한 응용 프로그램의 범위를 넓힐 수 있습니다. 비전에 대한 [이 튜토리얼](https://huggingface.co/docs/smolagents/main/ko/examples/web_browser)을 확인하십시오.\n",
    "\n",
    "🛠️ **도구에 구애받지 않음**: 모든 [MCP 서버](https://huggingface.co/docs/smolagents/main/ko/reference/tools#smolagents.ToolCollection.from_mcp)의 도구를 사용할 수 있으며, [LangChain](https://huggingface.co/docs/smolagents/main/ko/reference/tools#smolagents.Tool.from_langchain)의 도구를 사용할 수도 있으며, [허브 스페이스](https://huggingface.co/docs/smolagents/main/ko/reference/tools#smolagents.Tool.from_space)를 도구로 사용할 수도 있습니다.\n",
    "\n",
    "💻 **CLI 도구**: 상용구 코드를 작성하지 않고 에이전트를 빠르게 실행하기 위한 명령줄 유틸리티(smolagent, webagent)가 함께 제공됩니다."
   ]
  },
  {
   "cell_type": "markdown",
   "metadata": {},
   "source": [
    "## 빠른 시작"
   ]
  },
  {
   "cell_type": "markdown",
   "metadata": {},
   "source": [
    "몇 분 만에 smolagents를 시작하십시오! 이 가이드에서는 첫 번째 에이전트를 만들고 실행하는 방법을 보여줍니다."
   ]
  },
  {
   "cell_type": "markdown",
   "metadata": {},
   "source": [
    "### 설치"
   ]
  },
  {
   "cell_type": "markdown",
   "metadata": {},
   "source": [
    "pip로 smolagents를 설치합니다.\n",
    "\n",
    "```bash\n",
    "pip install smolagents[toolkit]  # 웹 검색과 같은 기본 도구 포함\n",
    "```"
   ]
  },
  {
   "cell_type": "markdown",
   "metadata": {},
   "source": [
    "### 첫 번째 에이전트 만들기"
   ]
  },
  {
   "cell_type": "markdown",
   "metadata": {},
   "source": [
    "다음은 에이전트를 만들고 실행하는 최소한의 예입니다."
   ]
  },
  {
   "cell_type": "code",
   "execution_count": null,
   "metadata": {},
   "outputs": [],
   "source": [
    "from smolagents import CodeAgent, InferenceClientModel\n",
    "\n",
    "# 모델 초기화 (Hugging Face 추론 API 사용)\n",
    "model = InferenceClientModel()  # 기본 모델 사용\n",
    "\n",
    "# 도구 없이 에이전트 만들기\n",
    "agent = CodeAgent(tools=[], model=model)\n",
    "\n",
    "# 작업으로 에이전트 실행\n",
    "result = agent.run(\"1부터 10까지의 숫자 합계 계산\")\n",
    "print(result)"
   ]
  },
  {
   "cell_type": "markdown",
   "metadata": {},
   "source": [
    "그게 다입니다! 에이전트는 Python 코드를 사용하여 작업을 해결하고 결과를 반환합니다."
   ]
  },
  {
   "cell_type": "markdown",
   "metadata": {},
   "source": [
    "### 도구 추가"
   ]
  },
  {
   "cell_type": "markdown",
   "metadata": {},
   "source": [
    "몇 가지 도구를 추가하여 에이전트를 더 유능하게 만들어 보겠습니다."
   ]
  },
  {
   "cell_type": "code",
   "execution_count": null,
   "metadata": {},
   "outputs": [],
   "source": [
    "from smolagents import CodeAgent, InferenceClientModel, DuckDuckGoSearchTool\n",
    "\n",
    "model = InferenceClientModel()\n",
    "agent = CodeAgent(\n",
    "    tools=[DuckDuckGoSearchTool()],\n",
    "    model=model,\n",
    ")\n",
    "\n",
    "# 이제 에이전트가 웹을 검색할 수 있습니다!\n",
    "result = agent.run(\"현재 파리 날씨는 어떤가요?\")\n",
    "print(result)"
   ]
  },
  {
   "cell_type": "markdown",
   "metadata": {},
   "source": [
    "### 다른 모델 사용"
   ]
  },
  {
   "cell_type": "markdown",
   "metadata": {},
   "source": [
    "에이전트와 함께 다양한 모델을 사용할 수 있습니다."
   ]
  },
  {
   "cell_type": "code",
   "execution_count": null,
   "metadata": {},
   "outputs": [],
   "source": [
    "# Hugging Face의 특정 모델 사용\n",
    "model = InferenceClientModel(model_id=\"meta-llama/Llama-2-70b-chat-hf\")\n",
    "\n",
    "# OpenAI/Anthropic 사용 (smolagents[litellm] 필요)\n",
    "from smolagents import LiteLLMModel\n",
    "model = LiteLLMModel(model_id=\"gpt-4\")\n",
    "\n",
    "# 로컬 모델 사용 (smolagents[transformers] 필요)\n",
    "from smolagents import TransformersModel\n",
    "model = TransformersModel(model_id=\"meta-llama/Llama-2-7b-chat-hf\")"
   ]
  },
  {
   "cell_type": "markdown",
   "metadata": {},
   "source": [
    "## 다음 단계"
   ]
  },
  {
   "cell_type": "markdown",
   "metadata": {},
   "source": [
    "- [설치 가이드](https://huggingface.co/docs/smolagents/main/ko/installation)에서 다양한 모델과 도구로 smolagents를 설정하는 방법을 알아보십시오.\n",
    "- 더 고급 기능을 보려면 [가이드 투어](https://huggingface.co/docs/smolagents/main/ko/guided_tour)를 확인하십시오.\n",
    "- [사용자 지정 도구 빌드](https://huggingface.co/docs/smolagents/main/ko/tutorials/tools)에 대해 알아보십시오.\n",
    "- [보안 코드 실행](https://huggingface.co/docs/smolagents/main/ko/tutorials/secure_code_execution)을 살펴보십시오.\n",
    "- [다중 에이전트 시스템](https://huggingface.co/docs/smolagents/main/ko/tutorials/building_good_agents)을 만드는 방법을 확인하십시오.\n",
    "\n",
    "<div class=\"mt-10\">\n",
    "  <div class=\"w-full flex flex-col space-y-4 md:space-y-0 md:grid md:grid-cols-2 md:gap-y-4 md:gap-x-5\">\n",
    "    <a class=\"!no-underline border dark:border-gray-700 p-5 rounded-lg shadow hover:shadow-lg\" href=\"./guided_tour\"\n",
    "      ><div class=\"w-full text-center bg-gradient-to-br from-blue-400 to-blue-500 rounded-lg py-1.5 font-semibold mb-5 text-white text-lg leading-relaxed\">가이드 투어</div>\n",
    "      <p class=\"text-gray-700\">기본 사항을 배우고 에이전트 사용에 익숙해지십시오. 에이전트를 처음 사용하는 경우 여기에서 시작하십시오!</p>\n",
    "    </a>\n",
    "    <a class=\"!no-underline border dark:border-gray-700 p-5 rounded-lg shadow hover:shadow-lg\" href=\"./examples/text_to_sql\"\n",
    "      ><div class=\"w-full text-center bg-gradient-to-br from-indigo-400 to-indigo-500 rounded-lg py-1.5 font-semibold mb-5 text-white text-lg leading-relaxed\">방법 가이드</div>\n",
    "      <p class=\"text-gray-700\">특정 목표를 달성하는 데 도움이 되는 실용적인 가이드: SQL 쿼리를 생성하고 테스트하는 에이전트를 만드십시오!</p>\n",
    "    </a>\n",
    "    <a class=\"!no-underline border dark:border-gray-700 p-5 rounded-lg shadow hover:shadow-lg\" href=\"./conceptual_guides/intro_agents\"\n",
    "      ><div class=\"w-full text-center bg-gradient-to-br from-pink-400 to-pink-500 rounded-lg py-1.5 font-semibold mb-5 text-white text-lg leading-relaxed\">개념 가이드</div>\n",
    "      <p class=\"text-gray-700\">중요한 주제에 대한 더 나은 이해를 구축하기 위한 상위 수준 설명입니다.</p>\n",
    "   </a>\n",
    "    <a class=\"!no-underline border dark:border-gray-700 p-5 rounded-lg shadow hover:shadow-lg\" href=\"./tutorials/building_good_agents\"\n",
    "      ><div class=\"w-full text-center bg-gradient-to-br from-purple-400 to-purple-500 rounded-lg py-1.5 font-semibold mb-5 text-white text-lg leading-relaxed\">튜토리얼</div>\n",
    "      <p class=\"text-gray-700\">에이전트 빌드의 중요한 측면을 다루는 수평적 튜토리얼입니다.</p>\n",
    "    </a>\n",
    "  </div>\n",
    "</div>"
   ]
  }
 ],
 "metadata": {},
 "nbformat": 4,
 "nbformat_minor": 4
}
