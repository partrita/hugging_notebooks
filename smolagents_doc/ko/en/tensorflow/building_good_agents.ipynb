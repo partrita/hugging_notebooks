{
 "cells": [
  {
   "cell_type": "code",
   "execution_count": null,
   "metadata": {},
   "outputs": [],
   "source": [
    "# Installation\n",
    "! pip install smolagents\n",
    "# To install from source instead of the last release, comment the command above and uncomment the following one.\n",
    "# ! pip install git+https://github.com/huggingface/smolagents.git"
   ]
  },
  {
   "cell_type": "markdown",
   "metadata": {},
   "source": [
    "# Building good agents"
   ]
  },
  {
   "cell_type": "markdown",
   "metadata": {},
   "source": [
    "There's a world of difference between building an agent that works and one that doesn't.\n",
    "How can we build agents that fall into the former category?\n",
    "In this guide, we're going to talk about best practices for building agents.\n",
    "\n",
    "> [!TIP]\n",
    "> If you're new to building agents, make sure to first read the [intro to agents](https://huggingface.co/docs/smolagents/main/en/tutorials/../conceptual_guides/intro_agents) and the [guided tour of smolagents](https://huggingface.co/docs/smolagents/main/en/tutorials/../guided_tour)."
   ]
  },
  {
   "cell_type": "markdown",
   "metadata": {},
   "source": [
    "### The best agentic systems are the simplest: simplify the workflow as much as you can"
   ]
  },
  {
   "cell_type": "markdown",
   "metadata": {},
   "source": [
    "Giving an LLM some agency in your workflow introduces some risk of errors.\n",
    "\n",
    "Well-programmed agentic systems have good error logging and retry mechanisms anyway, so the LLM engine has a chance to self-correct their mistake. But to reduce the risk of LLM error to the maximum, you should simplify your workflow!\n",
    "\n",
    "Let's revisit the example from the [intro to agents](https://huggingface.co/docs/smolagents/main/en/tutorials/../conceptual_guides/intro_agents): a bot that answers user queries for a surf trip company.\n",
    "Instead of letting the agent do 2 different calls for \"travel distance API\" and \"weather API\" each time they are asked about a new surf spot, you could just make one unified tool \"return_spot_information\", a function that calls both APIs at once and returns their concatenated outputs to the user.\n",
    "\n",
    "This will reduce costs, latency, and error risk!\n",
    "\n",
    "The main guideline is: Reduce the number of LLM calls as much as you can.\n",
    "\n",
    "This leads to a few takeaways:\n",
    "- Whenever possible, group 2 tools in one, like in our example of the two APIs.\n",
    "- Whenever possible, logic should be based on deterministic functions rather than agentic decisions."
   ]
  },
  {
   "cell_type": "markdown",
   "metadata": {},
   "source": [
    "### Improve the information flow to the LLM engine"
   ]
  },
  {
   "cell_type": "markdown",
   "metadata": {},
   "source": [
    "Remember that your LLM engine is like an *intelligent* robot, trapped into a room with the only communication with the outside world being notes passed under a door.\n",
    "\n",
    "It won't know of anything that happened if you don't explicitly put that into its prompt.\n",
    "\n",
    "So first start with making your task very clear!\n",
    "Since an agent is powered by an LLM, minor variations in your task formulation might yield completely different results.\n",
    "\n",
    "Then, improve the information flow towards your agent in tool use.\n",
    "\n",
    "Particular guidelines to follow:\n",
    "- Each tool should log (by simply using `print` statements inside the tool's `forward` method) everything that could be useful for the LLM engine.\n",
    "  - In particular, logging detail on tool execution errors would help a lot!\n",
    "\n",
    "For instance, here's a tool that retrieves weather data based on location and date-time:\n",
    "\n",
    "First, here's a poor version:"
   ]
  },
  {
   "cell_type": "code",
   "execution_count": null,
   "metadata": {},
   "outputs": [],
   "source": [
    "import datetime\n",
    "from smolagents import tool\n",
    "\n",
    "def get_weather_report_at_coordinates(coordinates, date_time):\n",
    "    # Dummy function, returns a list of [temperature in °C, risk of rain on a scale 0-1, wave height in m]\n",
    "    return [28.0, 0.35, 0.85]\n",
    "\n",
    "def convert_location_to_coordinates(location):\n",
    "    # Returns dummy coordinates\n",
    "    return [3.3, -42.0]\n",
    "\n",
    "@tool\n",
    "def get_weather_api(location: str, date_time: str) -> str:\n",
    "    \"\"\"\n",
    "    Returns the weather report.\n",
    "\n",
    "    Args:\n",
    "        location: the name of the place that you want the weather for.\n",
    "        date_time: the date and time for which you want the report.\n",
    "    \"\"\"\n",
    "    lon, lat = convert_location_to_coordinates(location)\n",
    "    date_time = datetime.strptime(date_time)\n",
    "    return str(get_weather_report_at_coordinates((lon, lat), date_time))"
   ]
  },
  {
   "cell_type": "markdown",
   "metadata": {},
   "source": [
    "Why is it bad?\n",
    "- there's no precision of the format that should be used for `date_time`\n",
    "- there's no detail on how location should be specified.\n",
    "- there's no logging mechanism trying to make explicit failure cases like location not being in a proper format, or date_time not being properly formatted.\n",
    "- the output format is hard to understand\n",
    "\n",
    "If the tool call fails, the error trace logged in memory can help the LLM reverse engineer the tool to fix the errors. But why leave it with so much heavy lifting to do?\n",
    "\n",
    "A better way to build this tool would have been the following:"
   ]
  },
  {
   "cell_type": "code",
   "execution_count": null,
   "metadata": {},
   "outputs": [],
   "source": [
    "@tool\n",
    "def get_weather_api(location: str, date_time: str) -> str:\n",
    "    \"\"\"\n",
    "    Returns the weather report.\n",
    "\n",
    "    Args:\n",
    "        location: the name of the place that you want the weather for. Should be a place name, followed by possibly a city name, then a country, like \"Anchor Point, Taghazout, Morocco\".\n",
    "        date_time: the date and time for which you want the report, formatted as '%m/%d/%y %H:%M:%S'.\n",
    "    \"\"\"\n",
    "    lon, lat = convert_location_to_coordinates(location)\n",
    "    try:\n",
    "        date_time = datetime.strptime(date_time)\n",
    "    except Exception as e:\n",
    "        raise ValueError(\"Conversion of `date_time` to datetime format failed, make sure to provide a string in format '%m/%d/%y %H:%M:%S'. Full trace:\" + str(e))\n",
    "    temperature_celsius, risk_of_rain, wave_height = get_weather_report_at_coordinates((lon, lat), date_time)\n",
    "    return f\"Weather report for {location}, {date_time}: Temperature will be {temperature_celsius}°C, risk of rain is {risk_of_rain*100:.0f}%, wave height is {wave_height}m.\""
   ]
  },
  {
   "cell_type": "markdown",
   "metadata": {},
   "source": [
    "In general, to ease the load on your LLM, the good question to ask yourself is: \"How easy would it be for me, if I was dumb and using this tool for the first time ever, to program with this tool and correct my own errors?\"."
   ]
  },
  {
   "cell_type": "markdown",
   "metadata": {},
   "source": [
    "### Give more arguments to the agent"
   ]
  },
  {
   "cell_type": "markdown",
   "metadata": {},
   "source": [
    "To pass some additional objects to your agent beyond the simple string describing the task, you can use the `additional_args` argument to pass any type of object:"
   ]
  },
  {
   "cell_type": "code",
   "execution_count": null,
   "metadata": {},
   "outputs": [],
   "source": [
    "from smolagents import CodeAgent, InferenceClientModel\n",
    "\n",
    "model_id = \"meta-llama/Llama-3.3-70B-Instruct\"\n",
    "\n",
    "agent = CodeAgent(tools=[], model=InferenceClientModel(model_id=model_id), add_base_tools=True)\n",
    "\n",
    "agent.run(\n",
    "    \"Why does Mike not know many people in New York?\",\n",
    "    additional_args={\"mp3_sound_file_url\":'https://huggingface.co/datasets/huggingface/documentation-images/resolve/main/transformers/recording.mp3'}\n",
    ")"
   ]
  },
  {
   "cell_type": "markdown",
   "metadata": {},
   "source": [
    "For instance, you can use this `additional_args` argument to pass images or strings that you want your agent to leverage."
   ]
  },
  {
   "cell_type": "markdown",
   "metadata": {},
   "source": [
    "## How to debug your agent"
   ]
  },
  {
   "cell_type": "markdown",
   "metadata": {},
   "source": [
    "### 1. Use a stronger LLM"
   ]
  },
  {
   "cell_type": "markdown",
   "metadata": {},
   "source": [
    "In an agentic workflows, some of the errors are actual errors, some other are the fault of your LLM engine not reasoning properly.\n",
    "For instance, consider this trace for an `CodeAgent` that I asked to create a car picture:\n",
    "```\n",
    "==================================================================================================== New task ====================================================================================================\n",
    "Make me a cool car picture\n",
    "──────────────────────────────────────────────────────────────────────────────────────────────────── New step ────────────────────────────────────────────────────────────────────────────────────────────────────\n",
    "Agent is executing the code below: ───────────────────────────────────────────────────────────────────────────────────────────────────────────────────────────────────────────────────────────────────────────────\n",
    "image_generator(prompt=\"A cool, futuristic sports car with LED headlights, aerodynamic design, and vibrant color, high-res, photorealistic\")\n",
    "──────────────────────────────────────────────────────────────────────────────────────────────────────────────────────────────────────────────────────────────────────────────────────────────────────────────────\n",
    "\n",
    "Last output from code snippet: ───────────────────────────────────────────────────────────────────────────────────────────────────────────────────────────────────────────────────────────────────────────────────\n",
    "/var/folders/6m/9b1tts6d5w960j80wbw9tx3m0000gn/T/tmpx09qfsdd/652f0007-3ee9-44e2-94ac-90dae6bb89a4.png\n",
    "Step 1:\n",
    "\n",
    "- Time taken: 16.35 seconds\n",
    "- Input tokens: 1,383\n",
    "- Output tokens: 77\n",
    "──────────────────────────────────────────────────────────────────────────────────────────────────── New step ────────────────────────────────────────────────────────────────────────────────────────────────────\n",
    "Agent is executing the code below: ───────────────────────────────────────────────────────────────────────────────────────────────────────────────────────────────────────────────────────────────────────────────\n",
    "final_answer(\"/var/folders/6m/9b1tts6d5w960j80wbw9tx3m0000gn/T/tmpx09qfsdd/652f0007-3ee9-44e2-94ac-90dae6bb89a4.png\")\n",
    "──────────────────────────────────────────────────────────────────────────────────────────────────────────────────────────────────────────────────────────────────────────────────────────────────────────────────\n",
    "Print outputs:\n",
    "\n",
    "Last output from code snippet: ───────────────────────────────────────────────────────────────────────────────────────────────────────────────────────────────────────────────────────────────────────────────────\n",
    "/var/folders/6m/9b1tts6d5w960j80wbw9tx3m0000gn/T/tmpx09qfsdd/652f0007-3ee9-44e2-94ac-90dae6bb89a4.png\n",
    "Final answer:\n",
    "/var/folders/6m/9b1tts6d5w960j80wbw9tx3m0000gn/T/tmpx09qfsdd/652f0007-3ee9-44e2-94ac-90dae6bb89a4.png\n",
    "```\n",
    "The user sees, instead of an image being returned, a path being returned to them.\n",
    "It could look like a bug from the system, but actually the agentic system didn't cause the error: it's just that the LLM brain did the mistake of not saving the image output into a variable.\n",
    "Thus it cannot access the image again except by leveraging the path that was logged while saving the image, so it returns the path instead of an image.\n",
    "\n",
    "The first step to debugging your agent is thus \"Use a more powerful LLM\". Alternatives like `Qwen2/5-72B-Instruct` wouldn't have made that mistake."
   ]
  },
  {
   "cell_type": "markdown",
   "metadata": {},
   "source": [
    "### 2. Provide more information or specific instructions"
   ]
  },
  {
   "cell_type": "markdown",
   "metadata": {},
   "source": [
    "You can also use less powerful models, provided you guide them more effectively.\n",
    "\n",
    "Put yourself in the shoes of your model: if you were the model solving the task, would you struggle with the information available to you (from the system prompt + task formulation + tool description) ?\n",
    "\n",
    "Would you need detailed instructions?\n",
    "\n",
    "- If the instruction is to always be given to the agent (as we generally understand a system prompt to work): you can pass it as a string under argument `instructions` upon agent initialization.\n",
    "- If it's about a specific task to solve: add all these details to the task. The task could be very long, like dozens of pages.\n",
    "- If it's about how to use specific tools: include it in the `description` attribute of these tools."
   ]
  },
  {
   "cell_type": "markdown",
   "metadata": {},
   "source": [
    "### 3. Change the prompt templates (generally not advised)"
   ]
  },
  {
   "cell_type": "markdown",
   "metadata": {},
   "source": [
    "If above clarifications are not sufficient, you can change the agent's prompt templates.\n",
    "\n",
    "Let's see how it works. For example, let us check the default prompt templates for the [CodeAgent](https://huggingface.co/docs/smolagents/main/en/reference/agents#smolagents.CodeAgent) (below version is shortened by skipping zero-shot examples)."
   ]
  },
  {
   "cell_type": "code",
   "execution_count": null,
   "metadata": {},
   "outputs": [],
   "source": [
    "print(agent.prompt_templates[\"system_prompt\"])"
   ]
  },
  {
   "cell_type": "markdown",
   "metadata": {},
   "source": [
    "Here is what you get:\n",
    "```text\n",
    "You are an expert assistant who can solve any task using code blobs. You will be given a task to solve as best you can.\n",
    "To do so, you have been given access to a list of tools: these tools are basically Python functions which you can call with code.\n",
    "To solve the task, you must plan forward to proceed in a series of steps, in a cycle of 'Thought:', 'Code:', and 'Observation:' sequences.\n",
    "\n",
    "At each step, in the 'Thought:' sequence, you should first explain your reasoning towards solving the task and the tools that you want to use.\n",
    "Then in the 'Code:' sequence, you should write the code in simple Python. The code sequence must end with '<end_code>' sequence.\n",
    "During each intermediate step, you can use 'print()' to save whatever important information you will then need.\n",
    "These print outputs will then appear in the 'Observation:' field, which will be available as input for the next step.\n",
    "In the end you have to return a final answer using the `final_answer` tool.\n",
    "\n",
    "Here are a few examples using notional tools:\n",
    "---\n",
    "Task: \"Generate an image of the oldest person in this document.\"\n",
    "\n",
    "Thought: I will proceed step by step and use the following tools: `document_qa` to find the oldest person in the document, then `image_generator` to generate an image according to the answer.\n",
    "<code>\n",
    "answer = document_qa(document=document, question=\"Who is the oldest person mentioned?\")\n",
    "print(answer)\n",
    "</code>\n",
    "Observation: \"The oldest person in the document is John Doe, a 55 year old lumberjack living in Newfoundland.\"\n",
    "\n",
    "Thought: I will now generate an image showcasing the oldest person.\n",
    "<code>\n",
    "image = image_generator(\"A portrait of John Doe, a 55-year-old man living in Canada.\")\n",
    "final_answer(image)\n",
    "</code>\n",
    "\n",
    "---\n",
    "Task: \"What is the result of the following operation: 5 + 3 + 1294.678?\"\n",
    "\n",
    "Thought: I will use python code to compute the result of the operation and then return the final answer using the `final_answer` tool\n",
    "<code>\n",
    "result = 5 + 3 + 1294.678\n",
    "final_answer(result)\n",
    "</code>\n",
    "\n",
    "---\n",
    "Task:\n",
    "\"Answer the question in the variable `question` about the image stored in the variable `image`. The question is in French.\n",
    "You have been provided with these additional arguments, that you can access using the keys as variables in your python code:\n",
    "{'question': 'Quel est l'animal sur l'image?', 'image': 'path/to/image.jpg'}\"\n",
    "\n",
    "Thought: I will use the following tools: `translator` to translate the question into English and then `image_qa` to answer the question on the input image.\n",
    "<code>\n",
    "translated_question = translator(question=question, src_lang=\"French\", tgt_lang=\"English\")\n",
    "print(f\"The translated question is {translated_question}.\")\n",
    "answer = image_qa(image=image, question=translated_question)\n",
    "final_answer(f\"The answer is {answer}\")\n",
    "</code>\n",
    "\n",
    "---\n",
    "Task:\n",
    "In a 1979 interview, Stanislaus Ulam discusses with Martin Sherwin about other great physicists of his time, including Oppenheimer.\n",
    "What does he say was the consequence of Einstein learning too much math on his creativity, in one word?\n",
    "\n",
    "Thought: I need to find and read the 1979 interview of Stanislaus Ulam with Martin Sherwin.\n",
    "Code:"
   ]
  },
  {
   "cell_type": "code",
   "execution_count": null,
   "metadata": {},
   "outputs": [],
   "source": [
    "pages = search(query=\"1979 interview Stanislaus Ulam Martin Sherwin physicists Einstein\")\n",
    "print(pages)\n",
    "```<end_code>\n",
    "Observation:\n",
    "No result found for query \"1979 interview Stanislaus Ulam Martin Sherwin physicists Einstein\".\n",
    "\n",
    "Thought: The query was maybe too restrictive and did not find any results. Let's try again with a broader query.\n",
    "Code:\n",
    "pages = search(query=\"1979 interview Stanislaus Ulam\")\n",
    "print(pages)\n",
    "```<end_code>\n",
    "Observation:\n",
    "Found 6 pages:\n",
    "[Stanislaus Ulam 1979 interview](https://ahf.nuclearmuseum.org/voices/oral-histories/stanislaus-ulams-interview-1979/)\n",
    "\n",
    "[Ulam discusses Manhattan Project](https://ahf.nuclearmuseum.org/manhattan-project/ulam-manhattan-project/)\n",
    "\n",
    "(truncated)\n",
    "\n",
    "Thought: I will read the first 2 pages to know more.\n",
    "Code:\n",
    "for url in [\"https://ahf.nuclearmuseum.org/voices/oral-histories/stanislaus-ulams-interview-1979/\", \"https://ahf.nuclearmuseum.org/manhattan-project/ulam-manhattan-project/\"]:\n",
    "    whole_page = visit_webpage(url)\n",
    "    print(whole_page)\n",
    "    print(\"\\n\" + \"=\"*80 + \"\\n\")  # Print separator between pages\n",
    "```<end_code>\n",
    "Observation:\n",
    "Manhattan Project Locations:\n",
    "Los Alamos, NM\n",
    "Stanislaus Ulam was a Polish-American mathematician. He worked on the Manhattan Project at Los Alamos and later helped design the hydrogen bomb. In this interview, he discusses his work at\n",
    "(truncated)\n",
    "\n",
    "Thought: I now have the final answer: from the webpages visited, Stanislaus Ulam says of Einstein: \"He learned too much mathematics and sort of diminished, it seems to me personally, it seems to me his purely physics creativity.\" Let's answer in one word.\n",
    "Code:\n",
    "final_answer(\"diminished\")\n",
    "```<end_code>\n",
    "\n",
    "---\n",
    "Task: \"Which city has the highest population: Guangzhou or Shanghai?\"\n",
    "\n",
    "Thought: I need to get the populations for both cities and compare them: I will use the tool `search` to get the population of both cities.\n",
    "Code:\n",
    "for city in [\"Guangzhou\", \"Shanghai\"]:\n",
    "    print(f\"Population {city}:\", search(f\"{city} population\")\n",
    "```<end_code>\n",
    "Observation:\n",
    "Population Guangzhou: ['Guangzhou has a population of 15 million inhabitants as of 2021.']\n",
    "Population Shanghai: '26 million (2019)'\n",
    "\n",
    "Thought: Now I know that Shanghai has the highest population.\n",
    "Code:\n",
    "final_answer(\"Shanghai\")\n",
    "```<end_code>\n",
    "\n",
    "---\n",
    "Task: \"What is the current age of the pope, raised to the power 0.36?\"\n",
    "\n",
    "Thought: I will use the tool `wiki` to get the age of the pope, and confirm that with a web search.\n",
    "Code:\n",
    "pope_age_wiki = wiki(query=\"current pope age\")\n",
    "print(\"Pope age as per wikipedia:\", pope_age_wiki)\n",
    "pope_age_search = web_search(query=\"current pope age\")\n",
    "print(\"Pope age as per google search:\", pope_age_search)\n",
    "```<end_code>\n",
    "Observation:\n",
    "Pope age: \"The pope Francis is currently 88 years old.\"\n",
    "\n",
    "Thought: I know that the pope is 88 years old. Let's compute the result using python code.\n",
    "Code:\n",
    "pope_current_age = 88 ** 0.36\n",
    "final_answer(pope_current_age)\n",
    "```<end_code>\n",
    "\n",
    "Above example were using notional tools that might not exist for you. On top of performing computations in the Python code snippets that you create, you only have access to these tools:\n",
    "{%- for tool in tools.values() %}\n",
    "- {{ tool.name }}: {{ tool.description }}\n",
    "    Takes inputs: {{tool.inputs}}\n",
    "    Returns an output of type: {{tool.output_type}}\n",
    "{%- endfor %}\n",
    "\n",
    "{%- if managed_agents and managed_agents.values() | list %}\n",
    "You can also give tasks to team members.\n",
    "Calling a team member works similarly to calling a tool: provide the task description as the 'task' argument. Since this team member is a real human, be as detailed and verbose as necessary in your task description.\n",
    "You can also include any relevant variables or context using the 'additional_args' argument.\n",
    "Here is a list of the team members that you can call:\n",
    "{%- for agent in managed_agents.values() %}\n",
    "- {{ agent.name }}: {{ agent.description }}\n",
    "{%- endfor %}\n",
    "{%- else %}\n",
    "{%- endif %}\n",
    "\n",
    "Here are the rules you should always follow to solve your task:\n",
    "1. Always provide a 'Thought:' sequence, and a 'Code:\\n```py' sequence ending with '```<end_code>' sequence, else you will fail.\n",
    "2. Use only variables that you have defined!\n",
    "3. Always use the right arguments for the tools. DO NOT pass the arguments as a dict as in 'answer = wiki({'query': \"What is the place where James Bond lives?\"})', but use the arguments directly as in 'answer = wiki(query=\"What is the place where James Bond lives?\")'.\n",
    "4. Take care to not chain too many sequential tool calls in the same code block, especially when the output format is unpredictable. For instance, a call to search has an unpredictable return format, so do not have another tool call that depends on its output in the same block: rather output results with print() to use them in the next block.\n",
    "5. Call a tool only when needed, and never re-do a tool call that you previously did with the exact same parameters.\n",
    "6. Don't name any new variable with the same name as a tool: for instance don't name a variable 'final_answer'.\n",
    "7. Never create any notional variables in our code, as having these in your logs will derail you from the true variables.\n",
    "8. You can use imports in your code, but only from the following list of modules: {{authorized_imports}}\n",
    "9. The state persists between code executions: so if in one step you've created variables or imported modules, these will all persist.\n",
    "10. Don't give up! You're in charge of solving the task, not providing directions to solve it.\n",
    "\n",
    "Now Begin! If you solve the task correctly, you will receive a reward of $1,000,000."
   ]
  },
  {
   "cell_type": "markdown",
   "metadata": {},
   "source": [
    "As you can see, there are placeholders like `\"{{ tool.description }}\"`: these will be used upon agent initialization to insert certain automatically generated descriptions of tools or managed agents.\n",
    "\n",
    "So while you can overwrite this system prompt template by passing your custom prompt as an argument to the `system_prompt` parameter, your new system prompt can contain the following placeholders:\n",
    "- To insert tool descriptions:\n",
    "  ```\n",
    "  {%- for tool in tools.values() %}\n",
    "  - {{ tool.name }}: {{ tool.description }}\n",
    "      Takes inputs: {{tool.inputs}}\n",
    "      Returns an output of type: {{tool.output_type}}\n",
    "  {%- endfor %}\n",
    "  ```\n",
    "- To insert the descriptions for managed agents if there are any:\n",
    "  ```\n",
    "  {%- if managed_agents and managed_agents.values() | list %}\n",
    "  You can also give tasks to team members.\n",
    "  Calling a team member works similarly to calling a tool: provide the task description as the 'task' argument. Since this team member is a real human, be as detailed and verbose as necessary in your task description.\n",
    "  You can also include any relevant variables or context using the 'additional_args' argument.\n",
    "  Here is a list of the team members that you can call:\n",
    "  {%- for agent in managed_agents.values() %}\n",
    "  - {{ agent.name }}: {{ agent.description }}\n",
    "  {%- endfor %}\n",
    "  {%- endif %}\n",
    "  ```\n",
    "- For `CodeAgent` only, to insert the list of authorized imports: `\"{{authorized_imports}}\"`\n",
    "\n",
    "Then you can change the system prompt as follows:"
   ]
  },
  {
   "cell_type": "code",
   "execution_count": null,
   "metadata": {},
   "outputs": [],
   "source": [
    "agent.prompt_templates[\"system_prompt\"] = agent.prompt_templates[\"system_prompt\"] + \"\\nHere you go!\""
   ]
  },
  {
   "cell_type": "markdown",
   "metadata": {},
   "source": [
    "This also works with the [ToolCallingAgent](https://huggingface.co/docs/smolagents/main/en/reference/agents#smolagents.ToolCallingAgent).\n",
    "\n",
    "But generally it's just simpler to pass argument `instructions` upon agent initalization, like:"
   ]
  },
  {
   "cell_type": "code",
   "execution_count": null,
   "metadata": {},
   "outputs": [],
   "source": [
    "agent = CodeAgent(tools=[], model=InferenceClientModel(model_id=model_id), instructions=\"Always talk like a 5 year old.\")"
   ]
  },
  {
   "cell_type": "markdown",
   "metadata": {},
   "source": [
    "### 4. Extra planning"
   ]
  },
  {
   "cell_type": "markdown",
   "metadata": {},
   "source": [
    "We provide a model for a supplementary planning step, that an agent can run regularly in-between normal action steps. In this step, there is no tool call, the LLM is simply asked to update a list of facts it knows and to reflect on what steps it should take next based on those facts."
   ]
  },
  {
   "cell_type": "code",
   "execution_count": null,
   "metadata": {},
   "outputs": [],
   "source": [
    "from smolagents import load_tool, CodeAgent, InferenceClientModel, WebSearchTool\n",
    "from dotenv import load_dotenv\n",
    "\n",
    "load_dotenv()\n",
    "\n",
    "# Import tool from Hub\n",
    "image_generation_tool = load_tool(\"m-ric/text-to-image\", trust_remote_code=True)\n",
    "\n",
    "search_tool = WebSearchTool()\n",
    "\n",
    "agent = CodeAgent(\n",
    "    tools=[search_tool, image_generation_tool],\n",
    "    model=InferenceClientModel(model_id=\"Qwen/Qwen2.5-72B-Instruct\"),\n",
    "    planning_interval=3 # This is where you activate planning!\n",
    ")\n",
    "\n",
    "# Run it!\n",
    "result = agent.run(\n",
    "    \"How long would a cheetah at full speed take to run the length of Pont Alexandre III?\",\n",
    ")"
   ]
  }
 ],
 "metadata": {},
 "nbformat": 4,
 "nbformat_minor": 4
}
