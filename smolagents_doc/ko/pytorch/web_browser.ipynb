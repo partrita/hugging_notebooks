{
 "cells": [
  {
   "cell_type": "code",
   "execution_count": null,
   "metadata": {},
   "outputs": [],
   "source": [
    "# 설치\n",
    "! pip install smolagents\n",
    "# 마지막 릴리스 대신 소스에서 설치하려면 위 명령을 주석 처리하고 다음 명령의 주석을 해제하십시오.\n",
    "# ! pip install git+https://github.com/huggingface/smolagents.git"
   ]
  },
  {
   "cell_type": "markdown",
   "metadata": {},
   "source": [
    "# 에이전트를 사용한 웹 브라우저 자동화 🤖🌐"
   ]
  },
  {
   "cell_type": "markdown",
   "metadata": {},
   "source": [
    "이 노트북에서는 **에이전트 기반 웹 브라우저 자동화 시스템**을 만들 것입니다! 이 시스템은 웹사이트를 탐색하고, 요소와 상호 작용하며, 정보를 자동으로 추출할 수 있습니다.\n",
    "\n",
    "에이전트는 다음을 수행할 수 있습니다.\n",
    "\n",
    "- [x] 웹 페이지로 이동\n",
    "- [x] 요소 클릭\n",
    "- [x] 페이지 내 검색\n",
    "- [x] 팝업 및 모달 처리\n",
    "- [x] 정보 추출\n",
    "\n",
    "이 시스템을 단계별로 설정해 봅시다!\n",
    "\n",
    "먼저 다음 줄을 실행하여 필요한 종속성을 설치하십시오.\n",
    "\n",
    "```bash\n",
    "pip install smolagents selenium helium pillow -q\n",
    "```\n",
    "\n",
    "필요한 라이브러리를 가져오고 환경 변수를 설정해 봅시다."
   ]
  },
  {
   "cell_type": "code",
   "execution_count": null,
   "metadata": {},
   "outputs": [],
   "source": [
    "from io import BytesIO\n",
    "from time import sleep\n",
    "\n",
    "import helium\n",
    "from dotenv import load_dotenv\n",
    "from PIL import Image\n",
    "from selenium import webdriver\n",
    "from selenium.webdriver.common.by import By\n",
    "from selenium.webdriver.common.keys import Keys\n",
    "\n",
    "from smolagents import CodeAgent, tool\n",
    "from smolagents.agents import ActionStep\n",
    "\n",
    "# 환경 변수 로드\n",
    "load_dotenv()"
   ]
  },
  {
   "cell_type": "markdown",
   "metadata": {},
   "source": [
    "이제 에이전트가 웹 페이지를 탐색하고 상호 작용할 수 있도록 하는 핵심 브라우저 상호 작용 도구를 만들어 보겠습니다."
   ]
  },
  {
   "cell_type": "code",
   "execution_count": null,
   "metadata": {},
   "outputs": [],
   "source": [
    "@tool\n",
    "def search_item_ctrl_f(text: str, nth_result: int = 1) -> str:\n",
    "    \"\"\"\n",
    "    Ctrl + F를 통해 현재 페이지에서 텍스트를 검색하고 n번째 항목으로 이동합니다.\n",
    "    Args:\n",
    "        text: 검색할 텍스트입니다.\n",
    "        nth_result: 이동할 항목 번호입니다(기본값: 1).\n",
    "    \"\"\"\n",
    "    elements = driver.find_elements(By.XPATH, f\"//*[contains(text(), '{text}')]\")\n",
    "    if nth_result > len(elements):\n",
    "        raise Exception(f\"일치 항목 n°{nth_result}을(를) 찾을 수 없습니다({len(elements)}개의 일치 항목만 발견됨).\")\n",
    "    result = f\"{len(elements)}개의 '{text}'에 대한 일치 항목을 찾았습니다.\"\n",
    "    elem = elements[nth_result - 1]\n",
    "    driver.execute_script(\"arguments[0].scrollIntoView(true);\", elem)\n",
    "    result += f\"요소 {nth_result}/{len(elements)}에 초점을 맞췄습니다.\"\n",
    "    return result\n",
    "\n",
    "@tool\n",
    "def go_back() -> None:\n",
    "    \"\"\"이전 페이지로 돌아갑니다.\"\"\"\n",
    "    driver.back()\n",
    "\n",
    "@tool\n",
    "def close_popups() -> str:\n",
    "    \"\"\"\n",
    "    페이지에 표시되는 모든 모달 또는 팝업을 닫습니다. 팝업 창을 닫으려면 이 도구를 사용하십시오!\n",
    "    이것은 쿠키 동의 배너에서는 작동하지 않습니다.\n",
    "    \"\"\"\n",
    "    webdriver.ActionChains(driver).send_keys(Keys.ESCAPE).perform()"
   ]
  },
  {
   "cell_type": "markdown",
   "metadata": {},
   "source": [
    "Chrome으로 브라우저를 설정하고 스크린샷 기능을 구성해 보겠습니다."
   ]
  },
  {
   "cell_type": "code",
   "execution_count": null,
   "metadata": {},
   "outputs": [],
   "source": [
    "# Chrome 옵션 구성\n",
    "chrome_options = webdriver.ChromeOptions()\n",
    "chrome_options.add_argument(\"--force-device-scale-factor=1\")\n",
    "chrome_options.add_argument(\"--window-size=1000,1350\")\n",
    "chrome_options.add_argument(\"--disable-pdf-viewer\")\n",
    "chrome_options.add_argument(\"--window-position=0,0\")\n",
    "\n",
    "# 브라우저 초기화\n",
    "driver = helium.start_chrome(headless=False, options=chrome_options)\n",
    "\n",
    "# 스크린샷 콜백 설정\n",
    "def save_screenshot(memory_step: ActionStep, agent: CodeAgent) -> None:\n",
    "    sleep(1.0)  # 스크린샷을 찍기 전에 JavaScript 애니메이션이 발생하도록 합니다.\n",
    "    driver = helium.get_driver()\n",
    "    current_step = memory_step.step_number\n",
    "    if driver is not None:\n",
    "        for previous_memory_step in agent.memory.steps:  # 간결한 처리를 위해 이전 스크린샷 제거\n",
    "            if isinstance(previous_memory_step, ActionStep) and previous_memory_step.step_number <= current_step - 2:\n",
    "                previous_memory_step.observations_images = None\n",
    "        png_bytes = driver.get_screenshot_as_png()\n",
    "        image = Image.open(BytesIO(png_bytes))\n",
    "        print(f\"브라우저 스크린샷 캡처: {image.size} 픽셀\")\n",
    "        memory_step.observations_images = [image.copy()]  # 지속되도록 복사본 만들기\n",
    "\n",
    "    # 현재 URL로 관찰 업데이트\n",
    "    url_info = f\"현재 URL: {driver.current_url}\"\n",
    "    memory_step.observations = (\n",
    "        url_info if memory_step.observations is None else memory_step.observations + \"\\n\" + url_info\n",
    "    )"
   ]
  },
  {
   "cell_type": "markdown",
   "metadata": {},
   "source": [
    "이제 웹 자동화 에이전트를 만들어 보겠습니다."
   ]
  },
  {
   "cell_type": "code",
   "execution_count": null,
   "metadata": {},
   "outputs": [],
   "source": [
    "from smolagents import InferenceClientModel\n",
    "\n",
    "# 모델 초기화\n",
    "model_id = \"Qwen/Qwen2-VL-72B-Instruct\"  # 선호하는 VLM 모델로 변경할 수 있습니다.\n",
    "model = InferenceClientModel(model_id=model_id)\n",
    "\n",
    "# 에이전트 만들기\n",
    "agent = CodeAgent(\n",
    "    tools=[go_back, close_popups, search_item_ctrl_f],\n",
    "    model=model,\n",
    "    additional_authorized_imports=[\"helium\"],\n",
    "    step_callbacks=[save_screenshot],\n",
    "    max_steps=20,\n",
    "    verbosity_level=2,\n",
    ")\n",
    "\n",
    "# 에이전트에 helium 가져오기\n",
    "agent.python_executor(\"from helium import *\", agent.state)"
   ]
  },
  {
   "cell_type": "markdown",
   "metadata": {},
   "source": [
    "에이전트에는 웹 자동화에 Helium을 사용하는 방법에 대한 지침이 필요합니다. 다음은 제공할 지침입니다."
   ]
  },
  {
   "cell_type": "code",
   "execution_count": null,
   "metadata": {},
   "outputs": [],
   "source": [
    "helium_instructions = \"\"\"\n",
    "helium을 사용하여 웹사이트에 액세스할 수 있습니다. helium 드라이버에 대해서는 신경 쓰지 마십시오. 이미 관리되고 있습니다.\n",
    "이미 \"from helium import *\"를 실행했습니다.\n",
    "그런 다음 페이지로 이동할 수 있습니다!\n",
    "코드:\n",
    "go_to('github.com/trending')\n",
    "```<end_code>\n",
    "\n",
    "표시되는 텍스트를 입력하여 클릭 가능한 요소를 직접 클릭할 수 있습니다.\n",
    "코드:\n",
    "click(\"최고 제품\")\n",
    "```<end_code>\n",
    "\n",
    "링크인 경우:\n",
    "코드:\n",
    "click(Link(\"최고 제품\"))\n",
    "```<end_code>\n",
    "\n",
    "요소와 상호 작용하려고 할 때 해당 요소를 찾을 수 없으면 LookupError가 발생합니다.\n",
    "일반적으로 각 버튼 클릭 후 작업을 중지하여 스크린샷에서 어떤 일이 발생하는지 확인하십시오.\n",
    "페이지에 로그인하려고 하지 마십시오.\n",
    "\n",
    "위 또는 아래로 스크롤하려면 스크롤할 픽셀 수를 인수로 사용하여 scroll_down 또는 scroll_up을 사용하십시오.\n",
    "코드:\n",
    "scroll_down(num_pixels=1200) # 이렇게 하면 뷰포트 하나만큼 아래로 스크롤됩니다.\n",
    "```<end_code>\n",
    "\n",
    "닫기 위해 십자 아이콘이 있는 팝업이 있는 경우 해당 요소를 찾거나 'X' 요소를 대상으로 하여 닫기 아이콘을 클릭하려고 하지 마십시오(대부분 실패합니다).\n",
    "내장된 `close_popups` 도구를 사용하여 닫으십시오.\n",
    "코드:\n",
    "close_popups()\n",
    "```<end_code>\n",
    "\n",
    ".exists()를 사용하여 요소의 존재 여부를 확인할 수 있습니다. 예를 들면 다음과 같습니다.\n",
    "코드:\n",
    "if Text('쿠키 수락?').exists():\n",
    "    click('수락합니다')\n",
    "```<end_code>\n",
    "\"\"\""
   ]
  },
  {
   "cell_type": "markdown",
   "metadata": {},
   "source": [
    "이제 작업으로 에이전트를 실행할 수 있습니다! Wikipedia에서 정보를 찾아보겠습니다."
   ]
  },
  {
   "cell_type": "code",
   "execution_count": null,
   "metadata": {},
   "outputs": [],
   "source": [
    "search_request = \"\"\"\n",
    "https://en.wikipedia.org/wiki/Chicago로 이동하여 건설 사고를 언급하는 \"1992\"라는 단어가 포함된 문장을 알려주세요.\n",
    "\"\"\"\n",
    "\n",
    "agent_output = agent.run(search_request + helium_instructions)\n",
    "print(\"최종 출력:\")\n",
    "print(agent_output)"
   ]
  },
  {
   "cell_type": "markdown",
   "metadata": {},
   "source": [
    "요청을 수정하여 다른 작업을 실행할 수 있습니다. 예를 들어, 제가 더 열심히 일해야 하는지 알아보겠습니다."
   ]
  },
  {
   "cell_type": "code",
   "execution_count": null,
   "metadata": {},
   "outputs": [],
   "source": [
    "github_request = \"\"\"\n",
    "github.com/trending에서 리포지토리를 얻으려면 얼마나 열심히 일해야 하는지 알아보려고 합니다.\n",
    "최상위 트렌드 리포지토리의 최상위 작성자 프로필로 이동하여 지난 1년 동안의 총 커밋 수를 알려주시겠어요?\n",
    "\"\"\"\n",
    "\n",
    "agent_output = agent.run(github_request + helium_instructions)\n",
    "print(\"최종 출력:\")\n",
    "print(agent_output)"
   ]
  },
  {
   "cell_type": "markdown",
   "metadata": {},
   "source": [
    "이 시스템은 다음과 같은 작업에 특히 효과적입니다.\n",
    "- 웹사이트에서 데이터 추출\n",
    "- 웹 조사 자동화\n",
    "- UI 테스트 및 검증\n",
    "- 콘텐츠 모니터링"
   ]
  }
 ],
 "metadata": {},
 "nbformat": 4,
 "nbformat_minor": 4
}
