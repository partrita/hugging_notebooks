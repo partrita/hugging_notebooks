{
 "cells": [
  {
   "cell_type": "code",
   "execution_count": null,
   "metadata": {},
   "outputs": [],
   "source": [
    "# Installation\n",
    "! pip install smolagents\n",
    "# To install from source instead of the last release, comment the command above and uncomment the following one.\n",
    "# ! pip install git+https://github.com/huggingface/smolagents.git"
   ]
  },
  {
   "cell_type": "markdown",
   "metadata": {},
   "source": [
    "# `smolagents`"
   ]
  },
  {
   "cell_type": "markdown",
   "metadata": {},
   "source": [
    "<div class=\"flex justify-center\">\n",
    "    <img src=\"https://huggingface.co/datasets/huggingface/documentation-images/resolve/main/smolagents/license_to_call.png\" style=\"max-width:700px\"/>\n",
    "</div>"
   ]
  },
  {
   "cell_type": "markdown",
   "metadata": {},
   "source": [
    "## What is smolagents?"
   ]
  },
  {
   "cell_type": "markdown",
   "metadata": {},
   "source": [
    "`smolagents` is an open-source Python library designed to make it extremely easy to build and run agents using just a few lines of code.\n",
    "\n",
    "Key features of `smolagents` include:\n",
    "\n",
    "✨ **Simplicity**: The logic for agents fits in ~thousand lines of code. We kept abstractions to their minimal shape above raw code!\n",
    "\n",
    "🧑‍💻 **First-class support for Code Agents**: [`CodeAgent`](https://huggingface.co/docs/smolagents/main/en/reference/agents#smolagents.CodeAgent) writes its actions in code (as opposed to \"agents being used to write code\") to invoke tools or perform computations, enabling natural composability (function nesting, loops, conditionals). To make it secure, we support [executing in sandboxed environment](https://huggingface.co/docs/smolagents/main/en/tutorials/secure_code_execution) via [E2B](https://e2b.dev/) or via Docker.\n",
    "\n",
    "📡 **Common Tool-Calling Agent Support**: In addition to CodeAgents, [`ToolCallingAgent`](https://huggingface.co/docs/smolagents/main/en/reference/agents#smolagents.ToolCallingAgent) supports usual JSON/text-based tool-calling for scenarios where that paradigm is preferred.\n",
    "\n",
    "🤗 **Hub integrations**: Seamlessly share and load agents and tools to/from the Hub as Gradio Spaces.\n",
    "\n",
    "🌐 **Model-agnostic**: Easily integrate any large language model (LLM), whether it's hosted on the Hub via [Inference providers](https://huggingface.co/docs/inference-providers/index), accessed via APIs such as OpenAI, Anthropic, or many others via LiteLLM integration, or run locally using Transformers or Ollama. Powering an agent with your preferred LLM is straightforward and flexible.\n",
    "\n",
    "👁️ **Modality-agnostic**: Beyond text, agents can handle vision, video, and audio inputs, broadening the range of possible applications. Check out [this tutorial](https://huggingface.co/docs/smolagents/main/en/examples/web_browser) for vision.\n",
    "\n",
    "🛠️ **Tool-agnostic**: You can use tools from any [MCP server](https://huggingface.co/docs/smolagents/main/en/reference/tools#smolagents.ToolCollection.from_mcp), from [LangChain](https://huggingface.co/docs/smolagents/main/en/reference/tools#smolagents.Tool.from_langchain), you can even use a [Hub Space](https://huggingface.co/docs/smolagents/main/en/reference/tools#smolagents.Tool.from_space) as a tool.\n",
    "\n",
    "💻 **CLI Tools**: Comes with command-line utilities (smolagent, webagent) for quickly running agents without writing boilerplate code."
   ]
  },
  {
   "cell_type": "markdown",
   "metadata": {},
   "source": [
    "## Quickstart"
   ]
  },
  {
   "cell_type": "markdown",
   "metadata": {},
   "source": [
    "Get started with smolagents in just a few minutes! This guide will show you how to create and run your first agent."
   ]
  },
  {
   "cell_type": "markdown",
   "metadata": {},
   "source": [
    "### Installation"
   ]
  },
  {
   "cell_type": "markdown",
   "metadata": {},
   "source": [
    "Install smolagents with pip:\n",
    "\n",
    "```bash\n",
    "pip install smolagents[toolkit]  # Includes default tools like web search\n",
    "```"
   ]
  },
  {
   "cell_type": "markdown",
   "metadata": {},
   "source": [
    "### Create Your First Agent"
   ]
  },
  {
   "cell_type": "markdown",
   "metadata": {},
   "source": [
    "Here's a minimal example to create and run an agent:"
   ]
  },
  {
   "cell_type": "code",
   "execution_count": null,
   "metadata": {},
   "outputs": [],
   "source": [
    "from smolagents import CodeAgent, InferenceClientModel\n",
    "\n",
    "# Initialize a model (using Hugging Face Inference API)\n",
    "model = InferenceClientModel()  # Uses a default model\n",
    "\n",
    "# Create an agent with no tools\n",
    "agent = CodeAgent(tools=[], model=model)\n",
    "\n",
    "# Run the agent with a task\n",
    "result = agent.run(\"Calculate the sum of numbers from 1 to 10\")\n",
    "print(result)"
   ]
  },
  {
   "cell_type": "markdown",
   "metadata": {},
   "source": [
    "That's it! Your agent will use Python code to solve the task and return the result."
   ]
  },
  {
   "cell_type": "markdown",
   "metadata": {},
   "source": [
    "### Adding Tools"
   ]
  },
  {
   "cell_type": "markdown",
   "metadata": {},
   "source": [
    "Let's make our agent more capable by adding some tools:"
   ]
  },
  {
   "cell_type": "code",
   "execution_count": null,
   "metadata": {},
   "outputs": [],
   "source": [
    "from smolagents import CodeAgent, InferenceClientModel, DuckDuckGoSearchTool\n",
    "\n",
    "model = InferenceClientModel()\n",
    "agent = CodeAgent(\n",
    "    tools=[DuckDuckGoSearchTool()],\n",
    "    model=model,\n",
    ")\n",
    "\n",
    "# Now the agent can search the web!\n",
    "result = agent.run(\"What is the current weather in Paris?\")\n",
    "print(result)"
   ]
  },
  {
   "cell_type": "markdown",
   "metadata": {},
   "source": [
    "### Using Different Models"
   ]
  },
  {
   "cell_type": "markdown",
   "metadata": {},
   "source": [
    "You can use various models with your agent:"
   ]
  },
  {
   "cell_type": "code",
   "execution_count": null,
   "metadata": {},
   "outputs": [],
   "source": [
    "# Using a specific model from Hugging Face\n",
    "model = InferenceClientModel(model_id=\"meta-llama/Llama-2-70b-chat-hf\")\n",
    "\n",
    "# Using OpenAI/Anthropic (requires smolagents[litellm])\n",
    "from smolagents import LiteLLMModel\n",
    "model = LiteLLMModel(model_id=\"gpt-4\")\n",
    "\n",
    "# Using local models (requires smolagents[transformers])\n",
    "from smolagents import TransformersModel\n",
    "model = TransformersModel(model_id=\"meta-llama/Llama-2-7b-chat-hf\")"
   ]
  },
  {
   "cell_type": "markdown",
   "metadata": {},
   "source": [
    "## Next Steps"
   ]
  },
  {
   "cell_type": "markdown",
   "metadata": {},
   "source": [
    "- Learn how to set up smolagents with various models and tools in the [Installation Guide](https://huggingface.co/docs/smolagents/main/en/installation)\n",
    "- Check out the [Guided Tour](https://huggingface.co/docs/smolagents/main/en/guided_tour) for more advanced features\n",
    "- Learn about [building custom tools](https://huggingface.co/docs/smolagents/main/en/tutorials/tools)\n",
    "- Explore [secure code execution](https://huggingface.co/docs/smolagents/main/en/tutorials/secure_code_execution)\n",
    "- See how to create [multi-agent systems](https://huggingface.co/docs/smolagents/main/en/tutorials/building_good_agents)\n",
    "\n",
    "<div class=\"mt-10\">\n",
    "  <div class=\"w-full flex flex-col space-y-4 md:space-y-0 md:grid md:grid-cols-2 md:gap-y-4 md:gap-x-5\">\n",
    "    <a class=\"!no-underline border dark:border-gray-700 p-5 rounded-lg shadow hover:shadow-lg\" href=\"./guided_tour\"\n",
    "      ><div class=\"w-full text-center bg-gradient-to-br from-blue-400 to-blue-500 rounded-lg py-1.5 font-semibold mb-5 text-white text-lg leading-relaxed\">Guided tour</div>\n",
    "      <p class=\"text-gray-700\">Learn the basics and become familiar with using Agents. Start here if you are using Agents for the first time!</p>\n",
    "    </a>\n",
    "    <a class=\"!no-underline border dark:border-gray-700 p-5 rounded-lg shadow hover:shadow-lg\" href=\"./examples/text_to_sql\"\n",
    "      ><div class=\"w-full text-center bg-gradient-to-br from-indigo-400 to-indigo-500 rounded-lg py-1.5 font-semibold mb-5 text-white text-lg leading-relaxed\">How-to guides</div>\n",
    "      <p class=\"text-gray-700\">Practical guides to help you achieve a specific goal: create an agent to generate and test SQL queries!</p>\n",
    "    </a>\n",
    "    <a class=\"!no-underline border dark:border-gray-700 p-5 rounded-lg shadow hover:shadow-lg\" href=\"./conceptual_guides/intro_agents\"\n",
    "      ><div class=\"w-full text-center bg-gradient-to-br from-pink-400 to-pink-500 rounded-lg py-1.5 font-semibold mb-5 text-white text-lg leading-relaxed\">Conceptual guides</div>\n",
    "      <p class=\"text-gray-700\">High-level explanations for building a better understanding of important topics.</p>\n",
    "   </a>\n",
    "    <a class=\"!no-underline border dark:border-gray-700 p-5 rounded-lg shadow hover:shadow-lg\" href=\"./tutorials/building_good_agents\"\n",
    "      ><div class=\"w-full text-center bg-gradient-to-br from-purple-400 to-purple-500 rounded-lg py-1.5 font-semibold mb-5 text-white text-lg leading-relaxed\">Tutorials</div>\n",
    "      <p class=\"text-gray-700\">Horizontal tutorials that cover important aspects of building agents.</p>\n",
    "    </a>\n",
    "  </div>\n",
    "</div>"
   ]
  }
 ],
 "metadata": {},
 "nbformat": 4,
 "nbformat_minor": 4
}
