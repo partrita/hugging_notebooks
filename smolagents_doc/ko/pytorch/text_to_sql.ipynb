{
 "cells": [
  {
   "cell_type": "code",
   "execution_count": null,
   "metadata": {},
   "outputs": [],
   "source": [
    "# 설치\n",
    "! pip install smolagents\n",
    "# 마지막 릴리스 대신 소스에서 설치하려면 위 명령을 주석 처리하고 다음 명령의 주석을 해제하십시오.\n",
    "# ! pip install git+https://github.com/huggingface/smolagents.git"
   ]
  },
  {
   "cell_type": "markdown",
   "metadata": {},
   "source": [
    "# 텍스트-SQL 변환"
   ]
  },
  {
   "cell_type": "markdown",
   "metadata": {},
   "source": [
    "이 튜토리얼에서는 `smolagents`를 사용하여 SQL을 활용하는 에이전트를 구현하는 방법을 살펴보겠습니다.\n",
    "\n",
    "> 황금 질문부터 시작해 봅시다: 왜 간단하게 표준 텍스트-SQL 파이프라인을 사용하지 않을까요?\n",
    "\n",
    "표준 텍스트-SQL 파이프라인은 생성된 SQL 쿼리가 정확하지 않을 수 있으므로 취약합니다. 설상가상으로 쿼리가 정확하지 않지만 오류를 발생시키지 않고 대신 경고를 울리지 않고 부정확하거나 쓸모없는 출력을 제공할 수 있습니다.\n",
    "\n",
    "👉 대신 에이전트 시스템은 출력을 비판적으로 검사하고 쿼리를 변경해야 하는지 여부를 결정할 수 있으므로 성능이 크게 향상됩니다.\n",
    "\n",
    "이 에이전트를 만들어 봅시다! 💪\n",
    "\n",
    "필요한 종속성을 설치하려면 아래 줄을 실행하십시오.\n",
    "```bash\n",
    "!pip install smolagents python-dotenv sqlalchemy --upgrade -q\n",
    "```\n",
    "추론 공급자를 호출하려면 환경 변수 `HF_TOKEN`으로 유효한 토큰이 필요합니다.\n",
    "이를 로드하기 위해 python-dotenv를 사용합니다."
   ]
  },
  {
   "cell_type": "code",
   "execution_count": null,
   "metadata": {},
   "outputs": [],
   "source": [
    "from dotenv import load_dotenv\n",
    "load_dotenv()"
   ]
  },
  {
   "cell_type": "markdown",
   "metadata": {},
   "source": [
    "그런 다음 SQL 환경을 설정합니다."
   ]
  },
  {
   "cell_type": "code",
   "execution_count": null,
   "metadata": {},
   "outputs": [],
   "source": [
    "from sqlalchemy import (\n",
    "    create_engine,\n",
    "    MetaData,\n",
    "    Table,\n",
    "    Column,\n",
    "    String,\n",
    "    Integer,\n",
    "    Float,\n",
    "    insert,\n",
    "    inspect,\n",
    "    text,\n",
    ")\n",
    "\n",
    "engine = create_engine(\"sqlite:///:memory:\")\n",
    "metadata_obj = MetaData()\n",
    "\n",
    "def insert_rows_into_table(rows, table, engine=engine):\n",
    "    for row in rows:\n",
    "        stmt = insert(table).values(**row)\n",
    "        with engine.begin() as connection:\n",
    "            connection.execute(stmt)\n",
    "\n",
    "table_name = \"receipts\"\n",
    "receipts = Table(\n",
    "    table_name,\n",
    "    metadata_obj,\n",
    "    Column(\"receipt_id\", Integer, primary_key=True),\n",
    "    Column(\"customer_name\", String(16), primary_key=True),\n",
    "    Column(\"price\", Float),\n",
    "    Column(\"tip\", Float),\n",
    ")\n",
    "metadata_obj.create_all(engine)\n",
    "\n",
    "rows = [\n",
    "    {\"receipt_id\": 1, \"customer_name\": \"Alan Payne\", \"price\": 12.06, \"tip\": 1.20},\n",
    "    {\"receipt_id\": 2, \"customer_name\": \"Alex Mason\", \"price\": 23.86, \"tip\": 0.24},\n",
    "    {\"receipt_id\": 3, \"customer_name\": \"Woodrow Wilson\", \"price\": 53.43, \"tip\": 5.43},\n",
    "    {\"receipt_id\": 4, \"customer_name\": \"Margaret James\", \"price\": 21.11, \"tip\": 1.00},\n",
    "]\n",
    "insert_rows_into_table(rows, receipts)"
   ]
  },
  {
   "cell_type": "markdown",
   "metadata": {},
   "source": [
    "### 에이전트 만들기"
   ]
  },
  {
   "cell_type": "markdown",
   "metadata": {},
   "source": [
    "이제 SQL 테이블을 도구로 검색할 수 있도록 만들어 보겠습니다.\n",
    "\n",
    "도구의 설명 속성은 에이전트 시스템에 의해 LLM의 프롬프트에 포함됩니다. 이는 LLM에 도구 사용 방법에 대한 정보를 제공합니다. 여기서 SQL 테이블을 설명하려고 합니다."
   ]
  },
  {
   "cell_type": "code",
   "execution_count": null,
   "metadata": {},
   "outputs": [],
   "source": [
    "inspector = inspect(engine)\n",
    "columns_info = [(col[\"name\"], col[\"type\"]) for col in inspector.get_columns(\"receipts\")]\n",
    "\n",
    "table_description = \"열:\\n\" + \"\\n\".join([f\"  - {name}: {col_type}\" for name, col_type in columns_info])\n",
    "print(table_description)"
   ]
  },
  {
   "cell_type": "markdown",
   "metadata": {},
   "source": [
    "```text\n",
    "열:\n",
    "  - receipt_id: INTEGER\n",
    "  - customer_name: VARCHAR(16)\n",
    "  - price: FLOAT\n",
    "  - tip: FLOAT\n",
    "```\n",
    "\n",
    "이제 도구를 만들어 보겠습니다. 다음이 필요합니다. (자세한 내용은 [도구 문서](https://huggingface.co/docs/smolagents/main/ko/examples/../tutorials/tools)를 참조하십시오.)\n",
    "- 인수를 나열하는 `Args:` 부분이 있는 독스트링입니다.\n",
    "- 입력과 출력 모두에 대한 유형 힌트입니다."
   ]
  },
  {
   "cell_type": "code",
   "execution_count": null,
   "metadata": {},
   "outputs": [],
   "source": [
    "from smolagents import tool\n",
    "\n",
    "@tool\n",
    "def sql_engine(query: str) -> str:\n",
    "    \"\"\"\n",
    "    테이블에서 SQL 쿼리를 수행할 수 있습니다. 결과의 문자열 표현을 반환합니다.\n",
    "    테이블 이름은 'receipts'입니다. 설명은 다음과 같습니다.\n",
    "        열:\n",
    "        - receipt_id: INTEGER\n",
    "        - customer_name: VARCHAR(16)\n",
    "        - price: FLOAT\n",
    "        - tip: FLOAT\n",
    "\n",
    "    Args:\n",
    "        query: 수행할 쿼리입니다. 올바른 SQL이어야 합니다.\n",
    "    \"\"\"\n",
    "    output = \"\"\n",
    "    with engine.connect() as con:\n",
    "        rows = con.execute(text(query))\n",
    "        for row in rows:\n",
    "            output += \"\\n\" + str(row)\n",
    "    return output"
   ]
  },
  {
   "cell_type": "markdown",
   "metadata": {},
   "source": [
    "이제 이 도구를 활용하는 에이전트를 만들어 보겠습니다.\n",
    "\n",
    "smolagents의 주요 에이전트 클래스인 `CodeAgent`를 사용합니다. 이 에이전트는 코드에 작업을 작성하고 ReAct 프레임워크에 따라 이전 출력에 대해 반복할 수 있습니다.\n",
    "\n",
    "모델은 에이전트 시스템을 구동하는 LLM입니다. `InferenceClientModel`을 사용하면 서버리스 또는 전용 엔드포인트를 통해 HF의 추론 API를 사용하여 LLM을 호출할 수 있지만 모든 독점 API를 사용할 수도 있습니다."
   ]
  },
  {
   "cell_type": "code",
   "execution_count": null,
   "metadata": {},
   "outputs": [],
   "source": [
    "from smolagents import CodeAgent, InferenceClientModel\n",
    "\n",
    "agent = CodeAgent(\n",
    "    tools=[sql_engine],\n",
    "    model=InferenceClientModel(model_id=\"meta-llama/Llama-3.1-8B-Instruct\"),\n",
    ")\n",
    "agent.run(\"가장 비싼 영수증을 받은 고객의 이름을 알려주시겠어요?\")"
   ]
  },
  {
   "cell_type": "markdown",
   "metadata": {},
   "source": [
    "### 레벨 2: 테이블 조인"
   ]
  },
  {
   "cell_type": "markdown",
   "metadata": {},
   "source": [
    "이제 더 어렵게 만들어 봅시다! 에이전트가 여러 테이블 간의 조인을 처리하도록 하려고 합니다.\n",
    "\n",
    "따라서 각 receipt_id에 대한 웨이터 이름을 기록하는 두 번째 테이블을 만들어 봅시다!"
   ]
  },
  {
   "cell_type": "code",
   "execution_count": null,
   "metadata": {},
   "outputs": [],
   "source": [
    "table_name = \"waiters\"\n",
    "waiters = Table(\n",
    "    table_name,\n",
    "    metadata_obj,\n",
    "    Column(\"receipt_id\", Integer, primary_key=True),\n",
    "    Column(\"waiter_name\", String(16), primary_key=True),\n",
    ")\n",
    "metadata_obj.create_all(engine)\n",
    "\n",
    "rows = [\n",
    "    {\"receipt_id\": 1, \"waiter_name\": \"Corey Johnson\"},\n",
    "    {\"receipt_id\": 2, \"waiter_name\": \"Michael Watts\"},\n",
    "    {\"receipt_id\": 3, \"waiter_name\": \"Michael Watts\"},\n",
    "    {\"receipt_id\": 4, \"waiter_name\": \"Margaret James\"},\n",
    "]\n",
    "insert_rows_into_table(rows, waiters)"
   ]
  },
  {
   "cell_type": "markdown",
   "metadata": {},
   "source": [
    "테이블을 변경했으므로 LLM이 이 테이블의 정보를 제대로 활용할 수 있도록 이 테이블의 설명으로 `SQLExecutorTool`을 업데이트합니다."
   ]
  },
  {
   "cell_type": "code",
   "execution_count": null,
   "metadata": {},
   "outputs": [],
   "source": [
    "updated_description = \"\"\"테이블에서 SQL 쿼리를 수행할 수 있습니다. 이 도구의 출력은 실행 출력의 문자열 표현이라는 점에 유의하십시오.\n",
    "다음 테이블을 사용할 수 있습니다.\"\"\"\n",
    "\n",
    "inspector = inspect(engine)\n",
    "for table in [\"receipts\", \"waiters\"]:\n",
    "    columns_info = [(col[\"name\"], col[\"type\"]) for col in inspector.get_columns(table)]\n",
    "\n",
    "    table_description = f\"테이블 '{table}':\\n\"\n",
    "\n",
    "    table_description += \"열:\\n\" + \"\\n\".join([f\"  - {name}: {col_type}\" for name, col_type in columns_info])\n",
    "    updated_description += \"\\n\\n\" + table_description\n",
    "\n",
    "print(updated_description)"
   ]
  },
  {
   "cell_type": "markdown",
   "metadata": {},
   "source": [
    "이 요청은 이전 요청보다 약간 더 어려우므로 LLM 엔진을 더 강력한 [Qwen/Qwen2.5-Coder-32B-Instruct](https://huggingface.co/Qwen/Qwen2.5-Coder-32B-Instruct)로 전환합니다!"
   ]
  },
  {
   "cell_type": "code",
   "execution_count": null,
   "metadata": {},
   "outputs": [],
   "source": [
    "sql_engine.description = updated_description\n",
    "\n",
    "agent = CodeAgent(\n",
    "    tools=[sql_engine],\n",
    "    model=InferenceClientModel(model_id=\"Qwen/Qwen2.5-Coder-32B-Instruct\"),\n",
    ")\n",
    "\n",
    "agent.run(\"팁으로 가장 많은 돈을 받은 웨이터는 누구인가요?\")"
   ]
  },
  {
   "cell_type": "markdown",
   "metadata": {},
   "source": [
    "바로 작동합니다! 설정이 놀랍도록 간단했죠?\n",
    "\n",
    "이 예제는 완료되었습니다! 다음 개념을 다루었습니다.\n",
    "- 새 도구 만들기.\n",
    "- 도구 설명 업데이트.\n",
    "- 더 강력한 LLM으로 전환하면 에이전트 추론에 도움이 됩니다.\n",
    "\n",
    "✅ 이제 항상 꿈꿔 왔던 이 텍스트-SQL 시스템을 만들 수 있습니다! ✨"
   ]
  }
 ],
 "metadata": {},
 "nbformat": 4,
 "nbformat_minor": 4
}
