{
 "cells": [
  {
   "cell_type": "code",
   "execution_count": null,
   "metadata": {},
   "outputs": [],
   "source": [
    "# Installation\n",
    "! pip install smolagents\n",
    "# To install from source instead of the last release, comment the command above and uncomment the following one.\n",
    "# ! pip install git+https://github.com/huggingface/smolagents.git"
   ]
  },
  {
   "cell_type": "markdown",
   "metadata": {},
   "source": [
    "# Agentic RAG"
   ]
  },
  {
   "cell_type": "markdown",
   "metadata": {},
   "source": [
    "## Introduction to Retrieval-Augmented Generation (RAG)"
   ]
  },
  {
   "cell_type": "markdown",
   "metadata": {},
   "source": [
    "Retrieval-Augmented Generation (RAG) combines the power of large language models with external knowledge retrieval to produce more accurate, factual, and contextually relevant responses. At its core, RAG is about \"using an LLM to answer a user query, but basing the answer on information retrieved from a knowledge base.\""
   ]
  },
  {
   "cell_type": "markdown",
   "metadata": {},
   "source": [
    "### Why Use RAG?"
   ]
  },
  {
   "cell_type": "markdown",
   "metadata": {},
   "source": [
    "RAG offers several significant advantages over using vanilla or fine-tuned LLMs:\n",
    "\n",
    "1. **Factual Grounding**: Reduces hallucinations by anchoring responses in retrieved facts\n",
    "2. **Domain Specialization**: Provides domain-specific knowledge without model retraining\n",
    "3. **Knowledge Recency**: Allows access to information beyond the model's training cutoff\n",
    "4. **Transparency**: Enables citation of sources for generated content\n",
    "5. **Control**: Offers fine-grained control over what information the model can access"
   ]
  },
  {
   "cell_type": "markdown",
   "metadata": {},
   "source": [
    "### Limitations of Traditional RAG"
   ]
  },
  {
   "cell_type": "markdown",
   "metadata": {},
   "source": [
    "Despite its benefits, traditional RAG approaches face several challenges:\n",
    "\n",
    "- **Single Retrieval Step**: If the initial retrieval results are poor, the final generation will suffer\n",
    "- **Query-Document Mismatch**: User queries (often questions) may not match well with documents containing answers (often statements)\n",
    "- **Limited Reasoning**: Simple RAG pipelines don't allow for multi-step reasoning or query refinement\n",
    "- **Context Window Constraints**: Retrieved documents must fit within the model's context window"
   ]
  },
  {
   "cell_type": "markdown",
   "metadata": {},
   "source": [
    "## Agentic RAG: A More Powerful Approach"
   ]
  },
  {
   "cell_type": "markdown",
   "metadata": {},
   "source": [
    "We can overcome these limitations by implementing an **Agentic RAG** system - essentially an agent equipped with retrieval capabilities. This approach transforms RAG from a rigid pipeline into an interactive, reasoning-driven process."
   ]
  },
  {
   "cell_type": "markdown",
   "metadata": {},
   "source": [
    "### Key Benefits of Agentic RAG"
   ]
  },
  {
   "cell_type": "markdown",
   "metadata": {},
   "source": [
    "An agent with retrieval tools can:\n",
    "\n",
    "1. ✅ **Formulate optimized queries**: The agent can transform user questions into retrieval-friendly queries\n",
    "2. ✅ **Perform multiple retrievals**: The agent can retrieve information iteratively as needed\n",
    "3. ✅ **Reason over retrieved content**: The agent can analyze, synthesize, and draw conclusions from multiple sources\n",
    "4. ✅ **Self-critique and refine**: The agent can evaluate retrieval results and adjust its approach\n",
    "\n",
    "This approach naturally implements advanced RAG techniques:\n",
    "- **Hypothetical Document Embedding (HyDE)**: Instead of using the user query directly, the agent formulates retrieval-optimized queries ([paper reference](https://huggingface.co/papers/2212.10496))\n",
    "- **Self-Query Refinement**: The agent can analyze initial results and perform follow-up retrievals with refined queries ([technique reference](https://docs.llamaindex.ai/en/stable/examples/evaluation/RetryQuery/))"
   ]
  },
  {
   "cell_type": "markdown",
   "metadata": {},
   "source": [
    "## Building an Agentic RAG System"
   ]
  },
  {
   "cell_type": "markdown",
   "metadata": {},
   "source": [
    "Let's build a complete Agentic RAG system step by step. We'll create an agent that can answer questions about the Hugging Face Transformers library by retrieving information from its documentation.\n",
    "\n",
    "You can follow along with the code snippets below, or check out the full example in the smolagents GitHub repository: [examples/rag.py](https://github.com/huggingface/smolagents/blob/main/examples/rag.py)."
   ]
  },
  {
   "cell_type": "markdown",
   "metadata": {},
   "source": [
    "### Step 1: Install Required Dependencies"
   ]
  },
  {
   "cell_type": "markdown",
   "metadata": {},
   "source": [
    "First, we need to install the necessary packages:\n",
    "\n",
    "```bash\n",
    "pip install smolagents pandas langchain langchain-community sentence-transformers datasets python-dotenv rank_bm25 --upgrade\n",
    "```\n",
    "\n",
    "If you plan to use Hugging Face's Inference API, you'll need to set up your API token:"
   ]
  },
  {
   "cell_type": "code",
   "execution_count": null,
   "metadata": {},
   "outputs": [],
   "source": [
    "# Load environment variables (including HF_TOKEN)\n",
    "from dotenv import load_dotenv\n",
    "load_dotenv()"
   ]
  },
  {
   "cell_type": "markdown",
   "metadata": {},
   "source": [
    "### Step 2: Prepare the Knowledge Base"
   ]
  },
  {
   "cell_type": "markdown",
   "metadata": {},
   "source": [
    "We'll use a dataset containing Hugging Face documentation and prepare it for retrieval:"
   ]
  },
  {
   "cell_type": "code",
   "execution_count": null,
   "metadata": {},
   "outputs": [],
   "source": [
    "import datasets\n",
    "from langchain.docstore.document import Document\n",
    "from langchain.text_splitter import RecursiveCharacterTextSplitter\n",
    "from langchain_community.retrievers import BM25Retriever\n",
    "\n",
    "# Load the Hugging Face documentation dataset\n",
    "knowledge_base = datasets.load_dataset(\"m-ric/huggingface_doc\", split=\"train\")\n",
    "\n",
    "# Filter to include only Transformers documentation\n",
    "knowledge_base = knowledge_base.filter(lambda row: row[\"source\"].startswith(\"huggingface/transformers\"))\n",
    "\n",
    "# Convert dataset entries to Document objects with metadata\n",
    "source_docs = [\n",
    "    Document(page_content=doc[\"text\"], metadata={\"source\": doc[\"source\"].split(\"/\")[1]})\n",
    "    for doc in knowledge_base\n",
    "]\n",
    "\n",
    "# Split documents into smaller chunks for better retrieval\n",
    "text_splitter = RecursiveCharacterTextSplitter(\n",
    "    chunk_size=500,  # Characters per chunk\n",
    "    chunk_overlap=50,  # Overlap between chunks to maintain context\n",
    "    add_start_index=True,\n",
    "    strip_whitespace=True,\n",
    "    separators=[\"\\n\\n\", \"\\n\", \".\", \" \", \"\"],  # Priority order for splitting\n",
    ")\n",
    "docs_processed = text_splitter.split_documents(source_docs)\n",
    "\n",
    "print(f\"Knowledge base prepared with {len(docs_processed)} document chunks\")"
   ]
  },
  {
   "cell_type": "markdown",
   "metadata": {},
   "source": [
    "### Step 3: Create a Retriever Tool"
   ]
  },
  {
   "cell_type": "markdown",
   "metadata": {},
   "source": [
    "Now we'll create a custom tool that our agent can use to retrieve information from the knowledge base:"
   ]
  },
  {
   "cell_type": "code",
   "execution_count": null,
   "metadata": {},
   "outputs": [],
   "source": [
    "from smolagents import Tool\n",
    "\n",
    "class RetrieverTool(Tool):\n",
    "    name = \"retriever\"\n",
    "    description = \"Uses semantic search to retrieve the parts of transformers documentation that could be most relevant to answer your query.\"\n",
    "    inputs = {\n",
    "        \"query\": {\n",
    "            \"type\": \"string\",\n",
    "            \"description\": \"The query to perform. This should be semantically close to your target documents. Use the affirmative form rather than a question.\",\n",
    "        }\n",
    "    }\n",
    "    output_type = \"string\"\n",
    "\n",
    "    def __init__(self, docs, **kwargs):\n",
    "        super().__init__(**kwargs)\n",
    "        # Initialize the retriever with our processed documents\n",
    "        self.retriever = BM25Retriever.from_documents(\n",
    "            docs, k=10  # Return top 10 most relevant documents\n",
    "        )\n",
    "\n",
    "    def forward(self, query: str) -> str:\n",
    "        \"\"\"Execute the retrieval based on the provided query.\"\"\"\n",
    "        assert isinstance(query, str), \"Your search query must be a string\"\n",
    "\n",
    "        # Retrieve relevant documents\n",
    "        docs = self.retriever.invoke(query)\n",
    "\n",
    "        # Format the retrieved documents for readability\n",
    "        return \"\\nRetrieved documents:\\n\" + \"\".join(\n",
    "            [\n",
    "                f\"\\n\\n===== Document {str(i)} =====\\n\" + doc.page_content\n",
    "                for i, doc in enumerate(docs)\n",
    "            ]\n",
    "        )\n",
    "\n",
    "# Initialize our retriever tool with the processed documents\n",
    "retriever_tool = RetrieverTool(docs_processed)"
   ]
  },
  {
   "cell_type": "markdown",
   "metadata": {},
   "source": [
    "> [!TIP]\n",
    "> We're using BM25, a lexical retrieval method, for simplicity and speed. For production systems, you might want to use semantic search with embeddings for better retrieval quality. Check the [MTEB Leaderboard](https://huggingface.co/spaces/mteb/leaderboard) for high-quality embedding models."
   ]
  },
  {
   "cell_type": "markdown",
   "metadata": {},
   "source": [
    "### Step 4: Create an Advanced Retrieval Agent"
   ]
  },
  {
   "cell_type": "markdown",
   "metadata": {},
   "source": [
    "Now we'll create an agent that can use our retriever tool to answer questions:"
   ]
  },
  {
   "cell_type": "code",
   "execution_count": null,
   "metadata": {},
   "outputs": [],
   "source": [
    "from smolagents import InferenceClientModel, CodeAgent\n",
    "\n",
    "# Initialize the agent with our retriever tool\n",
    "agent = CodeAgent(\n",
    "    tools=[retriever_tool],  # List of tools available to the agent\n",
    "    model=InferenceClientModel(),  # Default model \"Qwen/Qwen2.5-Coder-32B-Instruct\"\n",
    "    max_steps=4,  # Limit the number of reasoning steps\n",
    "    verbosity_level=2,  # Show detailed agent reasoning\n",
    ")\n",
    "\n",
    "# To use a specific model, you can specify it like this:\n",
    "# model=InferenceClientModel(model_id=\"meta-llama/Llama-3.3-70B-Instruct\")"
   ]
  },
  {
   "cell_type": "markdown",
   "metadata": {},
   "source": [
    "> [!TIP]\n",
    "> Inference Providers give access to hundreds of models, powered by serverless inference partners. A list of supported providers can be found [here](https://huggingface.co/docs/inference-providers/index)."
   ]
  },
  {
   "cell_type": "markdown",
   "metadata": {},
   "source": [
    "### Step 5: Run the Agent to Answer Questions"
   ]
  },
  {
   "cell_type": "markdown",
   "metadata": {},
   "source": [
    "Let's use our agent to answer a question about Transformers:"
   ]
  },
  {
   "cell_type": "code",
   "execution_count": null,
   "metadata": {},
   "outputs": [],
   "source": [
    "# Ask a question that requires retrieving information\n",
    "question = \"For a transformers model training, which is slower, the forward or the backward pass?\"\n",
    "\n",
    "# Run the agent to get an answer\n",
    "agent_output = agent.run(question)\n",
    "\n",
    "# Display the final answer\n",
    "print(\"\\nFinal answer:\")\n",
    "print(agent_output)"
   ]
  },
  {
   "cell_type": "markdown",
   "metadata": {},
   "source": [
    "## Practical Applications of Agentic RAG"
   ]
  },
  {
   "cell_type": "markdown",
   "metadata": {},
   "source": [
    "Agentic RAG systems can be applied to various use cases:\n",
    "\n",
    "1. **Technical Documentation Assistance**: Help users navigate complex technical documentation\n",
    "2. **Research Paper Analysis**: Extract and synthesize information from scientific papers\n",
    "3. **Legal Document Review**: Find relevant precedents and clauses in legal documents\n",
    "4. **Customer Support**: Answer questions based on product documentation and knowledge bases\n",
    "5. **Educational Tutoring**: Provide explanations based on textbooks and learning materials"
   ]
  },
  {
   "cell_type": "markdown",
   "metadata": {},
   "source": [
    "## Conclusion"
   ]
  },
  {
   "cell_type": "markdown",
   "metadata": {},
   "source": [
    "Agentic RAG represents a significant advancement over traditional RAG pipelines. By combining the reasoning capabilities of LLM agents with the factual grounding of retrieval systems, we can build more powerful, flexible, and accurate information systems.\n",
    "\n",
    "The approach we've demonstrated:\n",
    "- Overcomes the limitations of single-step retrieval\n",
    "- Enables more natural interactions with knowledge bases\n",
    "- Provides a framework for continuous improvement through self-critique and query refinement\n",
    "\n",
    "As you build your own Agentic RAG systems, consider experimenting with different retrieval methods, agent architectures, and knowledge sources to find the optimal configuration for your specific use case."
   ]
  }
 ],
 "metadata": {},
 "nbformat": 4,
 "nbformat_minor": 4
}
