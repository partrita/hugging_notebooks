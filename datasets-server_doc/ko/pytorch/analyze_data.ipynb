{
 "cells": [
  {
   "cell_type": "markdown",
   "metadata": {},
   "source": [
    "# Hub에서 데이터셋 분석하기"
   ]
  },
  {
   "cell_type": "markdown",
   "metadata": {},
   "source": [
    "빠른 시작에서는 Hub의 데이터셋과 상호 작용하기 위한 다양한 엔드포인트를 소개했습니다. 가장 유용한 엔드포인트 중 하나는 `/parquet` 엔드포인트로, Hub에 저장된 데이터셋을 가져와 분석할 수 있게 해줍니다. 이는 데이터셋을 탐색하고 내용물을 더 잘 이해하는 좋은 방법입니다.\n",
    "\n",
    "설명을 위해 이 가이드에서는 Hub에서 데이터셋을 검색하고 Pandas 라이브러리를 사용하여 몇 가지 기본 데이터 분석을 수행하는 엔드투엔드 예제를 보여줍니다."
   ]
  },
  {
   "cell_type": "markdown",
   "metadata": {},
   "source": [
    "## 데이터셋 가져오기"
   ]
  },
  {
   "cell_type": "markdown",
   "metadata": {},
   "source": [
    "[Hub](https://huggingface.co/datasets)에는 다양한 작업, 크기 및 언어에 걸쳐 40,000개 이상의 데이터셋이 있습니다. 이 예제에서는 [`codeparrot/codecomplex`](https://huggingface.co/datasets/codeparrot/codecomplex) 데이터셋을 사용하지만, 자유롭게 탐색하여 관심 있는 다른 데이터셋을 찾아보세요! 이 데이터셋에는 프로그래밍 대회에서 가져온 Java 코드가 포함되어 있으며 코드의 시간 복잡도는 알고리즘 전문가 그룹에 의해 레이블이 지정되었습니다. \n",
    "\n",
    "시간 복잡도와 관련된 제출된 코드의 평균 길이에 관심이 있다고 가정해 보겠습니다. 시작하는 방법은 다음과 같습니다. \n",
    "\n",
    "`/parquet` 엔드포인트를 사용하여 데이터셋을 Parquet 파일로 변환하고 해당 URL을 반환합니다."
   ]
  },
  {
   "cell_type": "code",
   "execution_count": null,
   "metadata": {},
   "outputs": [],
   "source": [
    "import requests\n",
    "API_URL = \"https://datasets-server.huggingface.co/parquet?dataset=codeparrot/codecomplex\"\n",
    "def query():\n",
    "    response = requests.get(API_URL)\n",
    "    return response.json()\n",
    "data = query()\n",
    "print(data)\n",
    "{'parquet_files': \n",
    "    [\n",
    "        {'dataset': 'codeparrot/codecomplex', 'config': 'default', 'split': 'train', 'url': 'https://huggingface.co/datasets/codeparrot/codecomplex/resolve/refs%2Fconvert%2Fparquet/default/train/0000.parquet', 'filename': '0000.parquet', 'size': 4115908}\n",
    "    ], \n",
    " 'pending': [], 'failed': [], 'partial: false\n",
    "}"
   ]
  },
  {
   "cell_type": "markdown",
   "metadata": {},
   "source": [
    "## Pandas로 데이터셋 읽기"
   ]
  },
  {
   "cell_type": "markdown",
   "metadata": {},
   "source": [
    "URL을 사용하여 Parquet 파일을 Pandas DataFrame으로 읽을 수 있습니다."
   ]
  },
  {
   "cell_type": "code",
   "execution_count": null,
   "metadata": {},
   "outputs": [],
   "source": [
    "import pandas as pd\n",
    "\n",
    "url = \"https://huggingface.co/datasets/codeparrot/codecomplex/resolve/refs%2Fconvert%2Fparquet/default/train/0000.parquet\"\n",
    "df = pd.read_parquet(url)\n",
    "df.head(5)"
   ]
  },
  {
   "cell_type": "markdown",
   "metadata": {},
   "source": [
    "|                                               src | complexity |                         problem |       from |\n",
    "|--------------------------------------------------:|-----------:|--------------------------------:|-----------:|\n",
    "| import java.io.*;\\nimport java.math.BigInteger... |  quadratic |     1179_B. Tolik and His Uncle | CODEFORCES |\n",
    "| import java.util.Scanner;\\n \\npublic class pil... |     linear |                 1197_B. Pillars | CODEFORCES |\n",
    "| import java.io.BufferedReader;\\nimport java.io... |     linear | 1059_C. Sequence Transformation | CODEFORCES |\n",
    "| import java.util.*;\\n\\nimport java.io.*;\\npubl... |     linear |                  1011_A. Stages | CODEFORCES |\n",
    "| import java.io.OutputStream;\\nimport java.io.I... |     linear |    1190_C. Tokitsukaze and Duel | CODEFORCES |"
   ]
  },
  {
   "cell_type": "markdown",
   "metadata": {},
   "source": [
    "## 시간 복잡도별 평균 코드 길이 계산"
   ]
  },
  {
   "cell_type": "markdown",
   "metadata": {},
   "source": [
    "Pandas는 데이터 분석을 위한 강력한 라이브러리입니다. 데이터셋을 시간 복잡도별로 그룹화하고, 코드 스니펫의 평균 길이를 계산하는 함수를 적용한 다음, 결과를 플로팅합니다."
   ]
  },
  {
   "cell_type": "code",
   "execution_count": null,
   "metadata": {},
   "outputs": [],
   "source": [
    "df.groupby('complexity')['src'].apply(lambda x: x.str.len().mean()).sort_values(ascending=False).plot.barh(color=\"orange\")"
   ]
  },
  {
   "cell_type": "markdown",
   "metadata": {},
   "source": [
    "<div class=\"flex justify-center\">\n",
    "    <img src=\"https://huggingface.co/datasets/huggingface/documentation-images/resolve/main/datasets-server/codecomplex.png\"/>\n",
    "</div>"
   ]
  }
 ],
 "metadata": {},
 "nbformat": 4,
 "nbformat_minor": 4
}
